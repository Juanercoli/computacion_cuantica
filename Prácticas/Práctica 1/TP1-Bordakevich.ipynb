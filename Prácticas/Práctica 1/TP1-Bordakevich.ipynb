{
 "cells": [
  {
   "cell_type": "markdown",
   "metadata": {},
   "source": [
    "# Teoría de la información cuántica\n",
    "## Docentes a cargo: Raúl Rossignoli, Alan Boette\n",
    "### Sebastián Bordakevich, 2°cuatrimestre 2020"
   ]
  },
  {
   "cell_type": "code",
   "execution_count": 1,
   "metadata": {},
   "outputs": [],
   "source": [
    "## Cosas Python\n",
    "import numpy as np\n",
    "import qutip as qt\n",
    "from scipy import linalg as la\n",
    "import sympy as sp"
   ]
  },
  {
   "cell_type": "markdown",
   "metadata": {},
   "source": [
    "Cosas Latex\n",
    "$$\\newcommand{\\ket}[1]{\\left|\\,{#1}\\,\\right\\rangle}\n",
    "\\newcommand{\\bra}[1]{\\left\\langle\\,{#1}\\,\\right|}\n",
    "\\newcommand{\\braket}[2]{\\left\\langle\\,{#1}\\,\\middle|\\,{#2}\\,\\right\\rangle}\n",
    "\\newcommand{\\mean}[1]{\\left\\langle\\,{#1}\\,\\right\\rangle}$$"
   ]
  },
  {
   "cell_type": "markdown",
   "metadata": {},
   "source": [
    "### Práctica 1"
   ]
  },
  {
   "cell_type": "markdown",
   "metadata": {},
   "source": [
    "**I.1** Demostrar que un operador densidad $\\rho$ describe un estado puro sii $\\rho^2=\\rho$."
   ]
  },
  {
   "cell_type": "markdown",
   "metadata": {},
   "source": [
    "**Dem**: Si $\\rho$ no es puro, entonces $\\rho=\\sum\\limits_ip_i\\ket{i}\\bra{i}$ y, por lo tanto,\n",
    "$$\\rho^2=\\left(\\sum\\limits_{i}p_i\\ket{i}\\bra{i}\\right)\\left(\\sum\\limits_{j}p_j\\ket{j}\\bra{j}\\right)=\\sum\\limits_{ij}p_ip_j\\braket{i}{j}\\ket{i}\\bra{j}$$\n",
    "\n",
    "Entonces, $\\rho=\\rho^2$ solo puede suceder si $i=j$ y, por lo tanto, $p_i^2=p_i$ $\\forall i$.\n",
    "\n",
    "Esto solo es posible si todos los $p_i$ son nulos salvo uno, lo cual implica que $\\rho$ es puro."
   ]
  },
  {
   "cell_type": "markdown",
   "metadata": {},
   "source": [
    "**I.2** Mostrar que si $\\rho_i$, $i=1,...,m$, son operadores densidad, entonces\n",
    "$$\\rho=\\sum\\limits_{i=1}^mp_i\\rho_i\\text{, }\\hspace{5pt}p_i\\geq0\\text{, }\\hspace{5pt}\\sum\\limits_{i=1}^mp_i=1\\text{,}$$\n",
    "es también un operador densidad. Esto muestra que el conjunto de operadores de densidad para un dado sistema es un conjunto convexo."
   ]
  },
  {
   "cell_type": "markdown",
   "metadata": {},
   "source": [
    "**Dem:** Si $\\rho_i$ es un operador densidad, entonces $\\rho_i=\\sum\\limits_{j=1}^{m_j}q_{ij}\\rho_{ij}$ y, por lo tanto,\n",
    "$$\\rho=\\sum\\limits_{i=1}^mp_i\\sum\\limits_{j=1}^{m_j}p_{ij}\\rho_{ij}$$\n",
    "$\\color{red}{\\text{FALTA TERMINAR: No veo por qué esto ya no significa que lo cumple}}$"
   ]
  },
  {
   "cell_type": "markdown",
   "metadata": {},
   "source": [
    "**I.3** Mostrar que $\\rho=p\\ket{0}\\bra{0}+(1-p)\\ket{1}\\bra{1}$, con $p\\in(1/2,1)$, puede ser escrito como $$\\rho=q\\ket{\\alpha}\\bra{\\alpha}+(1-p)\\ket{\\beta}\\bra{\\beta}$$\n",
    "con $q\\in[1-p,p]$ arbitrario y $\\ket{\\alpha}$, $\\ket{\\beta}$ estados normalizados. Determine $\\ket{\\alpha}$ y $\\ket{\\beta}$ e interprete ambas representaciones."
   ]
  },
  {
   "cell_type": "markdown",
   "metadata": {},
   "source": [
    "**Dem:** Si tengo dos bases de estados, no necesariamente normalizados, $\\left\\{\\,\\ket{a_i}\\,\\right\\}$ y $\\left\\{\\,\\ket{b_i}\\,\\right\\}$, puedo afirmar que\n",
    "$$\\ket{b_i}=\\sum_ju_{ij}\\ket{a_j}$$\n",
    "Y, por lo tanto,\n",
    "$$\\ket{b_i}\\bra{b_i}=\\left(\\sum_ju_{ij}\\ket{a_j}\\right)\\left(\\sum_ku_{ik}^*\\bra{a_k}\\right)= \\sum_{jk}u_{ki}^\\dagger u_{ij}\\ket{a_j}\\bra{a_k}$$\n",
    "Entonces, si esa transformación $u$ es unitaria, resulta que\n",
    "$$\\sum_{i}\\ket{b_i}\\bra{b_i}= \\sum_{jk}\\left(\\sum_i u_{ij}u_{ki}^\\dagger\\right)\\ket{a_j}\\bra{a_k}=\\sum_{jk}\\delta_{jk}\\ket{a_j}\\bra{a_k}=\\sum_{j}\\ket{a_j}\\bra{a_j}$$\n",
    "Es decir que puedo elegir $\\ket{b_i}=\\sqrt{q_i}\\ket{\\hat{b}_i}$ y $\\ket{a_i}=\\sqrt{p_i}\\ket{\\hat{a}_i}$ tal que $\\ket{\\hat{b}_i} y \\ket{\\hat{a}_i}$ estén normalizados, con $\\sum\\limits_i p_i=\\sum\\limits_i q_i = 1$, siempre que la transformación $u$ entre $\\ket{b}$ y $\\ket{a}$ sea unitaria.\n",
    "\n",
    "$\\color{red}{\\text{FALTA TERMINAR: No veo cómo encontrar valores para \\ket{\\alpha}, \\ket{\\beta} y q. Entiendo que dado un \\ket{\\alpha} y \\ket{\\beta} existe un q que sale de proyectar.}}$"
   ]
  },
  {
   "cell_type": "markdown",
   "metadata": {},
   "source": [
    "**I.4** Mostrar que la matriz densidad más general para un qubit puede escribirse como \n",
    "$$\\rho=\\frac{1}{2}\\left(I+\\vec{r}\\cdot\\vec{\\sigma}\\right)$$\n",
    "donde $\\vec{r}=\\left(r_x,r_y,r_z\\right)$ es un vector arbitrario con $|\\vec{r}|\\leq 1$, y $\\vec{\\sigma}=(X,Y,Z)\\equiv(\\sigma_x,\\sigma_y,\\sigma_z)$ las matrices de Pauli. Determine los autovalores de $\\rho$ e indiquide en qué casos $\\rho$ representa un estado puro. Exprese también $\\vec{r}$ en términos de $\\mean{\\sigma}=$ Tr $\\rho\\vec{\\sigma}$."
   ]
  },
  {
   "cell_type": "markdown",
   "metadata": {},
   "source": [
    "**Dem:** Si descompongo la matriz densidad en la base $\\left\\{I,\\sigma_x,\\sigma_y,\\sigma_z\\right\\}$, la puedo escribir como\n",
    "$$\\rho=a_oI+a_x\\sigma_x+a_y\\sigma_y+a_z\\sigma_z$$\n",
    "y le puedo pedir que su traza sea unidad:\n",
    "$$\\text{Tr }\\rho=a_o\\text{ Tr }I+a_x\\text{ Tr }\\sigma_x+a_y\\text{ Tr }\\sigma_y+a_z\\text{ Tr }\\sigma_z=2a_o=1$$\n",
    "porque la traza de las matrices de Pauli es nula; por lo tanto, $a_o=1/2$. También puedo encontrar el valor medio de los operadores $\\sigma_i$:\n",
    "$$\\mean{\\sigma_i}=\\text{Tr }(\\rho\\sigma_i)=\\frac{1}{2}\\text{ Tr }(I\\,\\sigma_i)+\\sum_ja_j\\text{ Tr }(\\sigma_j\\,\\sigma_i)=0+\\sum_ja_j\\,2\\delta_{ji}=2a_i$$\n",
    "Es decir, $a_i=\\frac{1}{2}\\sigma_i$. Por lo tanto, puedo definir $\\vec{r}=\\mean{\\vec{\\sigma}}$ y, finalmente,\n",
    "$$\\rho=\\frac{1}{2}\\left(I+\\vec{r}\\cdot\\vec{\\sigma}\\right)$$\n",
    "A esta expresión es directo calcularle los autovalores:\n",
    "$$\\begin{align}\n",
    "\\text{det}\\left[\\rho-\\lambda I\\right]&=\\text{det}\\left[\\frac{1}{2}\\pmatrix{1&0\\\\0&1}+\\frac{\\mean{\\sigma_x}}{2}\\pmatrix{0&1\\\\1&0}+\\frac{\\mean{\\sigma_y}}{2}\\pmatrix{0&-i\\\\i&0}+\\frac{\\sigma_z}{2}\\pmatrix{1&0\\\\0&1}-\\lambda\\pmatrix{1&0\\\\0&1}\\right]\\\\\n",
    "&=\\begin{vmatrix}\\frac{1+\\mean{\\sigma_z}}{2}-\\lambda&\\frac{\\mean{\\sigma_x}-i\\mean{\\sigma_y}}{2}\\\\\\frac{\\mean{\\sigma_x}+i\\mean{\\sigma_y}}{2}&\\frac{1-\\mean{\\sigma_z}}{2}-\\lambda\\end{vmatrix}\\\\\n",
    "&= \\left(\\frac{1+\\mean{\\sigma_z}}{2}-\\lambda\\right)\\left(\\frac{1-\\mean{\\sigma_z}}{2}-\\lambda\\right)-\\left(\\frac{\\mean{\\sigma_x}-i\\mean{\\sigma_y}}{2}\\right)\\left(\\frac{\\mean{\\sigma_x}+i\\mean{\\sigma_y}}{2}\\right)\\\\\n",
    "&= \\lambda^2-\\lambda+\\frac{1}{4}\\left[1-\\left(\\mean{\\sigma_x}^2+\\mean{\\sigma_y}^2+\\mean{\\sigma_z}^2\\right)\\right]\n",
    "\\end{align}$$\n",
    "Lo cual nos da como resultado que\n",
    "$$\\lambda_\\pm=\\frac{1}{2}\\left[1\\pm \\left(\\mean{\\sigma_x}^2+\\mean{\\sigma_y}^2+\\mean{\\sigma_z}^2\\right)\\right]\\equiv\\frac{1}{2}\\left(1\\pm \\left|\\vec{r}\\right|\\,\\right)$$\n",
    "Además, como $\\rho$ debe ser semidefinida positiva, vale que $\\left|\\vec{r}\\right|\\leq 1$. Y, finalmente, sabemos que $\\text{Tr }(\\rho^2)=\\lambda_+^2+\\lambda_-^2=\\frac{1}{2}\\left(1+\\left|\\vec{r}\\right|\\right)$. Por lo tanto, $\\rho$ será puro si y solo si $\\left|\\vec{r}\\right|=1$."
   ]
  },
  {
   "cell_type": "markdown",
   "metadata": {},
   "source": [
    "**I.5** Generalizar I.4 a un sistema de 2 qubits."
   ]
  },
  {
   "cell_type": "markdown",
   "metadata": {},
   "source": [
    "**Dem:** Si tomamos como base los 16 elementos de $\\left\\{I\\otimes I,\\, \\vec{\\sigma}\\otimes I,\\, I\\otimes\\vec{\\sigma},\\,\\vec{\\sigma}\\otimes\\vec{\\sigma}\\right\\}$, expresamos $\\rho$ como\n",
    "$$\\rho=r_{oo}I\\otimes I+\\sum_i r_{io} \\sigma_i \\otimes I + \\sum_j r_{oj} I \\otimes \\sigma_j + \\sum_{ij}r_{ij}\\sigma_i \\otimes \\sigma_j$$\n",
    "Y podemos calcular los valores medios de operadores como\n",
    "$$\\begin{align}\n",
    "\\mean{I\\otimes I}&=\\text{Tr }\\left[\\rho\\,(I\\otimes I)\\right]\\\\\n",
    "&=\\text{Tr }\\left(r_{oo}I\\otimes I+\\sum_i r_{io} \\sigma_i \\otimes I + \\sum_j r_{oj} I \\otimes \\sigma_j + \\sum_{ij}r_{ij}\\sigma_i \\otimes \\sigma_j\\right)\\\\\n",
    "&=4r_{00}+0+0+0=4r_{oo}\\\\\n",
    "&\\\\\n",
    "\\mean{\\sigma_k\\otimes I}&=\\text{Tr }\\left[\\rho\\,(\\sigma_k\\otimes I)\\right] \\\\\n",
    "&=\\text{Tr }\\left(r_{oo}\\sigma_k\\otimes I+\\sum_i r_{io} \\sigma_i\\sigma_k \\otimes I + \\sum_j r_{oj} \\sigma_k \\otimes \\sigma_j + \\sum_{ij}r_{ij}\\sigma_i\\sigma_k \\otimes \\sigma_j\\right)\\\\\n",
    "&=0+4\\sum_ir_{io}\\delta_{ik}+0+0=4r_{ko}\\\\\n",
    "&\\\\\n",
    "\\mean{I\\otimes \\sigma_l}&=\\text{Tr }\\left[\\rho\\,(I\\otimes \\sigma_l)\\right] \\\\\n",
    "&=\\text{Tr }\\left(r_{oo}I\\otimes \\sigma_l+\\sum_i r_{io} \\sigma_i \\otimes \\sigma_l + \\sum_j r_{oj} I \\otimes \\sigma_j\\sigma_l + \\sum_{ij}r_{ij}\\sigma_i \\otimes \\sigma_j\\sigma_l\\right)\\\\\n",
    "&=0+0+4\\sum_jr_{oj}\\delta_{jl}+0=4r_{ol}\\\\\n",
    "\\mean{\\sigma_k \\otimes \\sigma_l}&=\\text{Tr }\\left[\\rho\\,(\\sigma_k\\otimes \\sigma_l)\\right]\\\\\n",
    "&=\\text{Tr }\\left(r_{oo}\\sigma_k\\otimes \\sigma_l+\\sum_i r_{io} \\sigma_i\\sigma_k \\otimes \\sigma_l + \\sum_j r_{oj} \\sigma_k \\otimes \\sigma_j\\sigma_l + \\sum_{ij}r_{ij}\\sigma_i\\sigma_k \\otimes \\sigma_j\\sigma_l\\right)\\\\\n",
    "&=0+0+0+4\\sum_{ij}r_{ij}\\delta_{ik}\\delta_{jl}=4r_{kl}\\\\\n",
    "\\end{align}$$\n",
    "Entonces, en correspondencia con el caso de un qubit, podemos escribir que\n",
    "$$\\rho=\\frac{1}{4}\\left(I\\otimes I+\\sum_l\\mean{I\\otimes\\sigma_l}I\\otimes\\sigma_l+ \\sum_k\\mean{\\sigma_k\\otimes I}\\sigma_k\\otimes I + \\sum_{kl}\\mean{\\sigma_k\\otimes\\sigma_l}\\sigma_k\\otimes\\sigma_l\\right)$$\n",
    "O, de manera más compacta, si llamamos $\\sigma_o$ a la identidad,\n",
    "$$\\rho=\\frac{1}{4}\\sum_{kl}r_{kl}\\sigma_k\\otimes\\sigma_l\\,\\text{, con }\\,r_{kl}=\\mean{\\sigma_k\\otimes\\sigma_l}$$\n",
    "\n",
    "$\\color{red}{\\text{FALTA TERMINAR: No veo cómo calcular los autovalores y la pureza.}}$"
   ]
  },
  {
   "cell_type": "markdown",
   "metadata": {},
   "source": [
    "**I.6** Determinar todos los valores posibles de $x$ para los cuales\n",
    "$$\\rho=x\\ket{\\Phi}\\bra{\\Phi}+(1-x)I_d/d$$\n",
    "con $\\ket{\\Phi}$ un estado normalizado e I_d la identidad de $d\\times d$ ($d=\\text{ Tr }I_d$ es la dimensión del espacio de estados), es un operador densidad. Interpretar este estado."
   ]
  },
  {
   "cell_type": "markdown",
   "metadata": {},
   "source": [
    "**Dem:** Para que sea un operador densidad, necesito pedir dos cosas: que su traza sea 1, y que sea semidefinido positivo.Para la primera condición, calculo su traza:\n",
    "$$\\text{Tr }\\left(x\\ket{\\Phi}\\bra{\\Phi}+(1-x)I_d/d\\right)=x\\text{Tr }\\left(\\ket{\\Phi}\\bra{\\Phi}\\right)+\\frac{1-x}{d}\\text{Tr }\\left(I_d\\right)=x\\cdot 1+\\frac{1-x}{d}\\cdot d=1$$\n",
    "lo cual no impone restricciones para x. Para la segunda condición, pido que todos sus autovalores sean mayores o iguales a 0. Entonces planteo que:\n",
    "$$\\rho\\ket{\\Psi}=x\\ket{\\Phi}\\braket{\\Phi}{\\Psi}+\\frac{(1-x)}{d}\\ket{\\Psi}$$\n",
    "Si descompongo a $\\ket{\\Psi}$ en sus partes paralela y transversal a $\\ket{\\Phi}$, obtengo que\n",
    "$$\\rho\\left(\\ket{\\Psi_p}+\\ket{\\Psi_t}\\right)=x\\ket{\\Phi}\\braket{\\Phi}{\\Psi_p}+\\frac{(1-x)}{d}\\left(\\ket{\\Psi_p}+\\ket{\\Psi_t}\\right)$$\n",
    "Por lo tanto, para que $\\ket{\\Psi}$ sea autovector, debo pedir que el primer término se anule; es decir, que $\\ket{\\Psi}$ no tenga componente en la dirección de $\\ket{\\Phi}$. En ese caso, obtenemos que\n",
    "$$\\rho\\ket{\\Psi_t}=\\frac{(1-x)}{d}\\ket{\\Psi_t}$$\n",
    "lo cual solo impone que $x<1$ para que todos los autovalores sean positivos o mayores a cero. Si, en cambio, $\\ket{\\Psi}$ es paralelo a $\\ket{\\Phi}$ vemos que\n",
    "$$\\rho\\ket{\\Phi}=x\\ket{\\Phi}\\braket{\\Phi}{\\Phi}+\\frac{(1-x)}{d}\\ket{\\Phi}=\\left(x+\\frac{(1-x)}{d}\\right)\\ket{\\Phi}$$\n",
    "Por lo tanto, solo hay que pedir que\n",
    "$$x\\geq\\frac{-1}{d-1}\\text{ , que es siempre negativo.}$$\n",
    "Este estado puede ser interpretado como un estado puro $\\ket{\\Phi}\\bra{\\Phi}$ al cual se le suma una parte de estados maximamente mezclados, equivalente a agregar ruido equiprobable."
   ]
  },
  {
   "cell_type": "markdown",
   "metadata": {},
   "source": [
    "**II.1** Para un sistema de dos qubits, escribir explı́citamente la matriz que representa a $\\rho_{AB}=\\ket{\\Phi_{AB}}\\bra{\\Phi_{AB}}$ en la base computacional $\\left\\{\\ket{00}, \\ket{01}, \\ket{10}, \\ket{11}\\right\\}$ para:\n",
    "$$a)\\,\\ket{\\Phi_{AB}}=\\frac{\\ket{00}\\pm\\ket{11}}{\\sqrt{2}}\\text{ ,     }\\,b)\\,\\ket{\\Psi_{AB}}=\\frac{\\ket{00}+\\ket{10}-\\ket{01}-\\ket{11}}{2}$$\n",
    "Verificar en todos los casos que los autovalores de $\\rho$ son $(1, 0, 0, 0)$."
   ]
  },
  {
   "cell_type": "markdown",
   "metadata": {},
   "source": [
    "**Res:** Primero, me creo la base computacional de 2 qubits:"
   ]
  },
  {
   "cell_type": "code",
   "execution_count": 2,
   "metadata": {},
   "outputs": [],
   "source": [
    "st0 = qt.basis(2,0)\n",
    "st1 = qt.basis(2,1)\n",
    "\n",
    "st00 = qt.tensor(st0,st0)\n",
    "st01 = qt.tensor(st0,st1)\n",
    "st10 = qt.tensor(st1,st0)\n",
    "st11 = qt.tensor(st1,st1)"
   ]
  },
  {
   "cell_type": "markdown",
   "metadata": {},
   "source": [
    "Luego hago las operaciones necesarios para llegar a las expresiones de los estados. Los llamaré $\\ket{\\Phi_{AB}^+}$: phi_p, $\\ket{\\Phi_{AB}^-}$: phi_m, y $\\ket{\\Psi_{AB}}$: psi.  Con ket2dm$(\\ket{\\varphi})$ hago la operación $\\ket{\\varphi}\\bra{\\varphi}$ y obtengo las matrices $\\rho$."
   ]
  },
  {
   "cell_type": "code",
   "execution_count": 3,
   "metadata": {},
   "outputs": [],
   "source": [
    "phi_p = (st00+st11)/np.sqrt(2)\n",
    "phi_m = (st00-st11)/np.sqrt(2)\n",
    "psi = (st00+st10-st01-st11)/2\n",
    "\n",
    "rho_phi_p = qt.ket2dm(phi_p)\n",
    "rho_phi_m = qt.ket2dm(phi_m)\n",
    "rho_psi = qt.ket2dm(psi)"
   ]
  },
  {
   "cell_type": "markdown",
   "metadata": {},
   "source": [
    "Finalmente, le calculo los autovalores, notando que en todos los casos son: 1 con multiplicidad 1, y 0 con multiplicidad 3."
   ]
  },
  {
   "cell_type": "code",
   "execution_count": 4,
   "metadata": {},
   "outputs": [
    {
     "name": "stdout",
     "output_type": "stream",
     "text": [
      "Autovalores de phi_p: [0. 0. 0. 1.]\n",
      "Autovalores de phi_m: [0. 0. 0. 1.]\n",
      "Autovalores de psi: [-0.  0.  0.  1.]\n"
     ]
    }
   ],
   "source": [
    "avals_phi_p,_ = rho_phi_p.eigenstates()\n",
    "avals_phi_m,_ = rho_phi_m.eigenstates()\n",
    "avals_psi,_ = rho_psi.eigenstates()\n",
    "\n",
    "print('Autovalores de phi_p:',np.round(avals_phi_p,3))\n",
    "print('Autovalores de phi_m:',np.round(avals_phi_m,3))\n",
    "print('Autovalores de psi:',np.round(avals_psi,3))"
   ]
  },
  {
   "cell_type": "markdown",
   "metadata": {},
   "source": [
    "**II.2** Hallar la matriz densidad reducida $\\rho_A = \\text{Tr}_B\\,\\rho_{AB}$ en todos los casos anteriores, y a partir de ella evaluar la entropı́a de entrelazamiento del estado."
   ]
  },
  {
   "cell_type": "markdown",
   "metadata": {},
   "source": [
    "**Res:** Calculo la traza parcial de cada operador y luego evalúo la entropía de entrelazamiento como\n",
    "$$E(A,B)=S(\\rho_A)=-\\text{Tr }\\left(\\rho_A\\,\\text{log}_2\\rho_A\\right)$$"
   ]
  },
  {
   "cell_type": "code",
   "execution_count": 5,
   "metadata": {},
   "outputs": [
    {
     "name": "stdout",
     "output_type": "stream",
     "text": [
      "Entropía de entrelazamiento de phi_p: (1-0j)\n",
      "Entropía de entrelazamiento de phi_m: (1-0j)\n",
      "Entropía de entrelazamiento de psi: (-0-0j)\n"
     ]
    },
    {
     "name": "stderr",
     "output_type": "stream",
     "text": [
      "/home/seba/anaconda3/lib/python3.7/site-packages/scipy/linalg/_matfuncs_inv_ssq.py:836: LogmNearlySingularWarning: The logm input matrix may be nearly singular.\n",
      "  warnings.warn(near_singularity_msg, LogmNearlySingularWarning)\n"
     ]
    }
   ],
   "source": [
    "rhoA_phi_p=rho_phi_p.ptrace(1)\n",
    "rhoA_phi_m=rho_phi_m.ptrace(1)\n",
    "rhoA_psi=rho_psi.ptrace(1)\n",
    "\n",
    "E_phi_p = -(rhoA_phi_p*la.logm(rhoA_phi_p)/np.log(2)).trace()\n",
    "E_phi_m = -(rhoA_phi_m*la.logm(rhoA_phi_m)/np.log(2)).trace()\n",
    "E_psi = -(rhoA_psi*la.logm(rhoA_psi)/np.log(2)).trace()\n",
    "\n",
    "print('Entropía de entrelazamiento de phi_p:',np.round(E_phi_p,3))\n",
    "print('Entropía de entrelazamiento de phi_m:',np.round(E_phi_m,3))\n",
    "print('Entropía de entrelazamiento de psi:',np.round(E_psi,3))"
   ]
  },
  {
   "cell_type": "markdown",
   "metadata": {},
   "source": [
    "El tema con este método es que calcular el logaritmo de la matriz puede traer problemas; por ejemplo, la $\\rho_A$ de $\\ket{\\Psi}$ no es invertible. Esto se puede esquivar sabiendo que la entropía de entrelazamiento puede también escribirse como\n",
    "$$E(A,B)=-\\sum_k^{n_s}\\sigma_k^2\\text{log}_2\\sigma_k^2$$\n",
    "con $\\sigma_k^2$ los $n_s$ autovalores de $\\rho_A$."
   ]
  },
  {
   "cell_type": "code",
   "execution_count": 6,
   "metadata": {},
   "outputs": [
    {
     "name": "stdout",
     "output_type": "stream",
     "text": [
      "Entropía de entrelazamiento de phi_p: 1.0\n",
      "Entropía de entrelazamiento de phi_m: 1.0\n",
      "Entropía de entrelazamiento de psi: -0.0\n"
     ]
    }
   ],
   "source": [
    "sigma2A_phi_p,_ = rhoA_phi_p.eigenstates()\n",
    "sigma2A_phi_m,_ = rhoA_phi_m.eigenstates()\n",
    "sigma2A_psi,_ = rhoA_psi.eigenstates()\n",
    "\n",
    "sigma2A_phi_p_nonzero = sigma2A_phi_p [sigma2A_phi_p != 0]\n",
    "sigma2A_phi_m_nonzero = sigma2A_phi_m [sigma2A_phi_m != 0]\n",
    "sigma2A_psi_nonzero = sigma2A_psi [sigma2A_psi != 0]\n",
    "\n",
    "E_phi_p = -np.sum(np.square(sigma2A_phi_p_nonzero)*np.log(np.square(sigma2A_phi_p_nonzero))/np.log(2))\n",
    "E_phi_m = -np.sum(np.square(sigma2A_phi_m_nonzero)*np.log(np.square(sigma2A_phi_m_nonzero))/np.log(2))\n",
    "E_psi = -np.sum(np.square(sigma2A_psi_nonzero)*np.log(np.square(sigma2A_psi_nonzero))/np.log(2))\n",
    "\n",
    "print('Entropía de entrelazamiento de phi_p:',np.round(E_phi_p,3))\n",
    "print('Entropía de entrelazamiento de phi_m:',np.round(E_phi_m,3))\n",
    "print('Entropía de entrelazamiento de psi:',np.round(E_psi,3))"
   ]
  },
  {
   "cell_type": "markdown",
   "metadata": {},
   "source": [
    "Nuevamente tenemos complicaciones, ya que un autovalor nulo de $\\rho_A$ hace que $\\text{log}_2(0)=-\\text{Inf}$. Esto se evitó pidiendo que opere solo sobre los elementos correspondientes a autovalores no nulos.\n",
    "\n",
    "Esta situación tediosa está solucionada en la función de QuTip que evalúa la entropía de Von Neumann:"
   ]
  },
  {
   "cell_type": "code",
   "execution_count": 7,
   "metadata": {},
   "outputs": [
    {
     "name": "stdout",
     "output_type": "stream",
     "text": [
      "Entropía de entrelazamiento de phi_p: 1.0\n",
      "Entropía de entrelazamiento de phi_m: 1.0\n",
      "Entropía de entrelazamiento de psi: -0.0\n"
     ]
    }
   ],
   "source": [
    "E_phi_p = qt.entropy_vn(rhoA_phi_p,2)\n",
    "E_phi_m = qt.entropy_vn(rhoA_phi_m,2)\n",
    "E_psi = qt.entropy_vn(rhoA_psi,2)\n",
    "\n",
    "print('Entropía de entrelazamiento de phi_p:',np.round(E_phi_p,3))\n",
    "print('Entropía de entrelazamiento de phi_m:',np.round(E_phi_m,3))\n",
    "print('Entropía de entrelazamiento de psi:',np.round(E_psi,3))"
   ]
  },
  {
   "cell_type": "markdown",
   "metadata": {},
   "source": [
    "**II.3** Hallar la descomposición de Schmidt de los estados anteriores."
   ]
  },
  {
   "cell_type": "markdown",
   "metadata": {},
   "source": [
    "**Res:** Sabemos que el estado en su descomposición de Schmidt es\n",
    "$$\\ket{\\Psi_{AB}}=\\sum_{k=1}^{n_s}\\sigma_k\\ket{k_A}\\ket{k_B}$$\n",
    "con $n_s$ el número de Schmidt, y $\\sigma_k$, $\\ket{k_A}$ y $\\ket{k_B}$ que puede extraerse de las densidades locales $\\rho_A$ y $\\rho_B$, porque\n",
    "$$\\rho_A=\\sum_{k=1}^{n_s}\\sigma_k^2\\ket{k_A}\\bra{k_A}\\,\\text{ y }\\,\\rho_B=\\sum_{k=1}^{n_s}\\sigma_k^2\\ket{k_B}\\bra{k_B}$$\n",
    "Entonces, calculamos también los autovalores y autovectores de las matrices densidad $\\rho_B$, y operamos:"
   ]
  },
  {
   "cell_type": "code",
   "execution_count": 8,
   "metadata": {},
   "outputs": [
    {
     "name": "stdout",
     "output_type": "stream",
     "text": [
      "Chequeo: los autovalores de rho_A y de rho_B deberían ser iguales.\n",
      "phi_p: [0.5 0.5] y [0.5 0.5]\n",
      "phi_m: [0.5 0.5] y [0.5 0.5]\n",
      "psi: [0. 1.] y [0. 1.]\n",
      "\n",
      "Entonces, el número de Schmidt n_s es:\n",
      "phi_p: 2\n",
      "phi_m: 2\n",
      "psi: 1\n",
      "\n",
      "Los valores de sigma_k son:\n",
      "phi_p: [0.707 0.707]\n",
      "phi_m: [0.707 0.707]\n",
      "psi: [0. 1.]\n",
      "\n",
      "Y sus correspondientes kets k:\n",
      "- phi_p\n",
      "Para el sistema A:\n",
      "[Quantum object: dims = [[2], [1]], shape = (2, 1), type = ket\n",
      "Qobj data =\n",
      "[[-1.]\n",
      " [ 0.]]\n",
      " Quantum object: dims = [[2], [1]], shape = (2, 1), type = ket\n",
      "Qobj data =\n",
      "[[0.]\n",
      " [1.]]]\n",
      "y para el sistema B:\n",
      "[Quantum object: dims = [[2], [1]], shape = (2, 1), type = ket\n",
      "Qobj data =\n",
      "[[-1.]\n",
      " [ 0.]]\n",
      " Quantum object: dims = [[2], [1]], shape = (2, 1), type = ket\n",
      "Qobj data =\n",
      "[[0.]\n",
      " [1.]]]\n",
      "\n",
      "- phi_m\n",
      "Para el sistema A:\n",
      "[Quantum object: dims = [[2], [1]], shape = (2, 1), type = ket\n",
      "Qobj data =\n",
      "[[-1.]\n",
      " [ 0.]]\n",
      " Quantum object: dims = [[2], [1]], shape = (2, 1), type = ket\n",
      "Qobj data =\n",
      "[[0.]\n",
      " [1.]]]\n",
      "y para el sistema B:\n",
      "[Quantum object: dims = [[2], [1]], shape = (2, 1), type = ket\n",
      "Qobj data =\n",
      "[[-1.]\n",
      " [ 0.]]\n",
      " Quantum object: dims = [[2], [1]], shape = (2, 1), type = ket\n",
      "Qobj data =\n",
      "[[0.]\n",
      " [1.]]]\n",
      "\n",
      "- psi\n",
      "Para el sistema A:\n",
      "[Quantum object: dims = [[2], [1]], shape = (2, 1), type = ket\n",
      "Qobj data =\n",
      "[[-0.70710678]\n",
      " [-0.70710678]]\n",
      " Quantum object: dims = [[2], [1]], shape = (2, 1), type = ket\n",
      "Qobj data =\n",
      "[[-0.70710678]\n",
      " [ 0.70710678]]]\n",
      "y para el sistema B:\n",
      "[Quantum object: dims = [[2], [1]], shape = (2, 1), type = ket\n",
      "Qobj data =\n",
      "[[-0.70710678]\n",
      " [ 0.70710678]]\n",
      " Quantum object: dims = [[2], [1]], shape = (2, 1), type = ket\n",
      "Qobj data =\n",
      "[[0.70710678]\n",
      " [0.70710678]]]\n"
     ]
    }
   ],
   "source": [
    "rhoB_phi_p=rho_phi_p.ptrace(0)\n",
    "rhoB_phi_m=rho_phi_m.ptrace(0)\n",
    "rhoB_psi=rho_psi.ptrace(0)\n",
    "\n",
    "print('Chequeo: los autovalores de rho_A y de rho_B deberían ser iguales.')\n",
    "\n",
    "sigma2A_phi_p,kA_phi_p = rhoA_phi_p.eigenstates()\n",
    "sigma2B_phi_p,kB_phi_p = rhoB_phi_p.eigenstates()\n",
    "print('phi_p:', np.round(sigma2A_phi_p,3), 'y', np.round(sigma2B_phi_p,3))\n",
    "\n",
    "sigma2A_phi_m,kA_phi_m = rhoA_phi_m.eigenstates()\n",
    "sigma2B_phi_m,kB_phi_m = rhoB_phi_m.eigenstates()\n",
    "print('phi_m:', np.round(sigma2A_phi_m,3), 'y', np.round(sigma2B_phi_m,3))\n",
    "\n",
    "sigma2A_psi,kA_psi = rhoA_psi.eigenstates()\n",
    "sigma2B_psi,kB_psi = rhoB_psi.eigenstates()\n",
    "print('psi:', np.round(sigma2A_psi,3), 'y', np.round(sigma2B_psi,3))\n",
    "\n",
    "print('')\n",
    "print('Entonces, el número de Schmidt n_s es:')\n",
    "print('phi_p:', np.count_nonzero(np.round(sigma2A_phi_p,10)))\n",
    "print('phi_m:', np.count_nonzero(np.round(sigma2A_phi_m,10)))\n",
    "print('psi:', np.count_nonzero(np.round(sigma2A_psi,10)))\n",
    "\n",
    "print('')\n",
    "print('Los valores de sigma_k son:')\n",
    "print('phi_p:', np.round(np.sqrt(sigma2A_phi_p),3))\n",
    "print('phi_m:', np.round(np.sqrt(sigma2A_phi_m),3))\n",
    "print('psi:', np.round(np.sqrt(sigma2A_psi),3))\n",
    "\n",
    "print('')\n",
    "print('Y sus correspondientes kets k:')\n",
    "print('- phi_p')\n",
    "print('Para el sistema A:')\n",
    "print(kA_phi_p)\n",
    "print('y para el sistema B:')\n",
    "print(kB_phi_p)\n",
    "print('')\n",
    "print('- phi_m')\n",
    "print('Para el sistema A:')\n",
    "print(kA_phi_m)\n",
    "print('y para el sistema B:')\n",
    "print(kB_phi_m)\n",
    "print('')\n",
    "print('- psi')\n",
    "print('Para el sistema A:')\n",
    "print(kA_psi)\n",
    "print('y para el sistema B:')\n",
    "print(kB_psi)"
   ]
  },
  {
   "cell_type": "markdown",
   "metadata": {},
   "source": [
    "Otra forma de obtener la descomposición de Schmidt es a través de la descomposición en valores singulares de la matriz de coeficientes del estado:\n",
    "$$\\ket{\\Psi_{AB}}=\\sum_{ij}C_{ij}\\ket{i_A}\\ket{j_B}=\\sum_{k=1}^{n_s}\\sigma_k\\ket{k_A}\\ket{k_B}$$\n",
    "Si descompongo $C=UDV^\\dagger\\,$, con $\\,D_{kk'}=\\delta_{kk'}\\sigma_k\\,$, entonces $\\,\\ket{k_A}=U_{ik}\\ket{i_A}\\,$ y $\\,\\ket{k_B}=V_{jk}^*\\ket{j_B}$.\n",
    "\n",
    "Entonces, escribo las matrices $C$ de estos estados y hago las operaciones necesarias:\n",
    "    "
   ]
  },
  {
   "cell_type": "code",
   "execution_count": 9,
   "metadata": {},
   "outputs": [
    {
     "name": "stdout",
     "output_type": "stream",
     "text": [
      "El número de Schmidt n_s es:\n",
      "phi_p: 2\n",
      "phi_m: 2\n",
      "psi: 1\n",
      "\n",
      "Los valores de sigma_k son:\n",
      "phi_p: [0.707 0.707]\n",
      "phi_m: [0.707 0.707]\n",
      "psi: [1. 0.]\n",
      "\n",
      "Y sus correspondientes kets k:\n",
      "- phi_p\n",
      "Para el sistema A:\n",
      "[Quantum object: dims = [[2], [1]], shape = (2, 1), type = ket\n",
      "Qobj data =\n",
      "[[1.]\n",
      " [0.]]\n",
      " Quantum object: dims = [[2], [1]], shape = (2, 1), type = ket\n",
      "Qobj data =\n",
      "[[0.]\n",
      " [1.]]]\n",
      "y para el sistema B:\n",
      "[Quantum object: dims = [[2], [1]], shape = (2, 1), type = ket\n",
      "Qobj data =\n",
      "[[1.]\n",
      " [0.]]\n",
      " Quantum object: dims = [[2], [1]], shape = (2, 1), type = ket\n",
      "Qobj data =\n",
      "[[0.]\n",
      " [1.]]]\n",
      "\n",
      "- phi_m\n",
      "Para el sistema A:\n",
      "[Quantum object: dims = [[2], [1]], shape = (2, 1), type = ket\n",
      "Qobj data =\n",
      "[[1.]\n",
      " [0.]]\n",
      " Quantum object: dims = [[2], [1]], shape = (2, 1), type = ket\n",
      "Qobj data =\n",
      "[[0.]\n",
      " [1.]]]\n",
      "y para el sistema B:\n",
      "[Quantum object: dims = [[2], [1]], shape = (2, 1), type = ket\n",
      "Qobj data =\n",
      "[[1.]\n",
      " [0.]]\n",
      " Quantum object: dims = [[2], [1]], shape = (2, 1), type = ket\n",
      "Qobj data =\n",
      "[[ 0.]\n",
      " [-1.]]]\n",
      "\n",
      "- psi\n",
      "Para el sistema A:\n",
      "[Quantum object: dims = [[2], [1]], shape = (2, 1), type = ket\n",
      "Qobj data =\n",
      "[[-0.70710678]\n",
      " [-0.70710678]]\n",
      " Quantum object: dims = [[2], [1]], shape = (2, 1), type = ket\n",
      "Qobj data =\n",
      "[[-0.70710678]\n",
      " [ 0.70710678]]]\n",
      "y para el sistema B:\n",
      "[Quantum object: dims = [[2], [1]], shape = (2, 1), type = ket\n",
      "Qobj data =\n",
      "[[-0.70710678]\n",
      " [ 0.70710678]]\n",
      " Quantum object: dims = [[2], [1]], shape = (2, 1), type = ket\n",
      "Qobj data =\n",
      "[[0.70710678]\n",
      " [0.70710678]]]\n"
     ]
    }
   ],
   "source": [
    "C_phi_p = np.array([[1,0],[0,1]])/np.sqrt(2)\n",
    "C_phi_m = np.array([[1,0],[0,-1]])/np.sqrt(2)\n",
    "C_psi = np.array([[1,-1],[1,-1]])/2\n",
    "\n",
    "U_phi_p,sigma_phi_p,V_phi_p = np.linalg.svd(C_phi_p)\n",
    "U_phi_m,sigma_phi_m,V_phi_m = np.linalg.svd(C_phi_m)\n",
    "U_psi,sigma_psi,V_psi = np.linalg.svd(C_psi)\n",
    "\n",
    "kA_phi_p = qt.Qobj(U_phi_p)*[st0,st1]\n",
    "kB_phi_p = qt.Qobj(V_phi_p).conj()*[st0,st1]\n",
    "\n",
    "kA_phi_m = qt.Qobj(U_phi_m)*[st0,st1]\n",
    "kB_phi_m = qt.Qobj(V_phi_m).conj()*[st0,st1]\n",
    "\n",
    "kA_psi = qt.Qobj(U_psi)*[st0,st1]\n",
    "kB_psi = qt.Qobj(V_psi).conj()*[st0,st1]\n",
    "\n",
    "print('El número de Schmidt n_s es:')\n",
    "print('phi_p:', np.count_nonzero(np.round(sigma_phi_p,10)))\n",
    "print('phi_m:', np.count_nonzero(np.round(sigma_phi_m,10)))\n",
    "print('psi:', np.count_nonzero(np.round(sigma_psi,10)))\n",
    "\n",
    "print('')\n",
    "print('Los valores de sigma_k son:')\n",
    "print('phi_p:', np.round(sigma_phi_p,3))\n",
    "print('phi_m:', np.round(sigma_phi_m,3))\n",
    "print('psi:', np.round(sigma_psi,3))\n",
    "\n",
    "print('')\n",
    "print('Y sus correspondientes kets k:')\n",
    "print('- phi_p')\n",
    "print('Para el sistema A:')\n",
    "print(kA_phi_p)\n",
    "print('y para el sistema B:')\n",
    "print(kB_phi_p)\n",
    "print('')\n",
    "print('- phi_m')\n",
    "print('Para el sistema A:')\n",
    "print(kA_phi_m)\n",
    "print('y para el sistema B:')\n",
    "print(kB_phi_m)\n",
    "print('')\n",
    "print('- psi')\n",
    "print('Para el sistema A:')\n",
    "print(kA_psi)\n",
    "print('y para el sistema B:')\n",
    "print(kB_psi)"
   ]
  },
  {
   "cell_type": "markdown",
   "metadata": {},
   "source": [
    "Escrito de manera más amigable, esto nos dice que los $\\ket{k_A}$ y $\\ket{k_B}$ de $\\ket{\\Phi_{AB}^{\\pm}}$ ya son los de la base computacional, con sus $\\sigma_k=1/\\sqrt{2}$. Es decir, ya están en su descomposición de Schmidt.\n",
    "\n",
    "En cambio, para $\\ket{\\Psi_{AB}}$, su descomposición de Schmidt es\n",
    "$$\\ket{\\Psi_{AB}}=\\frac{-\\ket{0}-\\ket{1}}{\\sqrt{2}}\\,\\otimes\\,\\frac{-\\ket{0}+\\ket{1}}{\\sqrt{2}}$$\n",
    "Y esto también explica que su $n_s=1$ y que su $E(A,B)=0$ : es un estado no entrelazado."
   ]
  },
  {
   "cell_type": "markdown",
   "metadata": {},
   "source": [
    "**II.4** Para $|\\alpha|^2+|\\beta|^2=1$, hallar la descomposición de Schmidt del estado\n",
    "$$\\ket{\\Psi_{AB}}=\\alpha\\,\\frac{\\ket{00}+\\ket{11}}{\\sqrt{2}}+\\beta\\,\\frac{\\ket{01}+\\ket{10}}{\\sqrt{2}}$$\n",
    "y a partir de ella indicar: a) cuándo el estado será separable, b) cuándo será entrelazado, y c) en qué caso el entrelazamiento será máximo."
   ]
  },
  {
   "cell_type": "markdown",
   "metadata": {},
   "source": [
    "**Res:** Para hallar la descomposición de Schmidt, voy a usar la matriz de coeficientes del estado, porque sé que diagonalizándolas puedo encontrar que\n",
    "$$CC^\\dagger=UD^2U^\\dagger\\,\\text{ y }\\,C^\\dagger C=VD^2V^\\dagger$$\n",
    "con $D^2$ teniendo a los $\\sigma_k^2$ en la diagonal. Luego uso $U$ y $V$ para encontrar los $\\ket{k_A}$ y $\\ket{k_B}$ correspondientes."
   ]
  },
  {
   "cell_type": "code",
   "execution_count": 10,
   "metadata": {},
   "outputs": [
    {
     "name": "stdout",
     "output_type": "stream",
     "text": [
      "Chequeo: la resta entre las matrices D^2 tiene que ser nula: Matrix([[0, 0], [0, 0]])\n",
      "\n",
      "Los kets k son:\n",
      "Para el sistema A:\n",
      "[Quantum object: dims = [[2], [1]], shape = (2, 1), type = ket\n",
      "Qobj data =\n",
      "[[-0.70710678]\n",
      " [ 0.70710678]]\n",
      " Quantum object: dims = [[2], [1]], shape = (2, 1), type = ket\n",
      "Qobj data =\n",
      "[[0.70710678]\n",
      " [0.70710678]]]\n",
      "y para el sistema B:\n",
      "[Quantum object: dims = [[2], [1]], shape = (2, 1), type = ket\n",
      "Qobj data =\n",
      "[[-0.70710678]\n",
      " [ 0.70710678]]\n",
      " Quantum object: dims = [[2], [1]], shape = (2, 1), type = ket\n",
      "Qobj data =\n",
      "[[0.70710678]\n",
      " [0.70710678]]]\n",
      "\n",
      "Y sus valores de sigma_k^2 son:\n"
     ]
    },
    {
     "data": {
      "text/latex": [
       "$\\displaystyle \\left[ \\left[\\begin{matrix}\\frac{\\alpha \\overline{\\alpha}}{2} - \\frac{\\alpha \\overline{\\beta}}{2} - \\frac{\\beta \\overline{\\alpha}}{2} + \\frac{\\beta \\overline{\\beta}}{2}\\end{matrix}\\right], \\  \\left[\\begin{matrix}\\frac{\\alpha \\overline{\\alpha}}{2} + \\frac{\\alpha \\overline{\\beta}}{2} + \\frac{\\beta \\overline{\\alpha}}{2} + \\frac{\\beta \\overline{\\beta}}{2}\\end{matrix}\\right]\\right]$"
      ],
      "text/plain": [
       "⎡⎡  _     _     _     _⎤  ⎡  _     _     _     _⎤⎤\n",
       "⎢⎢α⋅α   α⋅β   β⋅α   β⋅β⎥  ⎢α⋅α   α⋅β   β⋅α   β⋅β⎥⎥\n",
       "⎢⎢─── - ─── - ─── + ───⎥, ⎢─── + ─── + ─── + ───⎥⎥\n",
       "⎣⎣ 2     2     2     2 ⎦  ⎣ 2     2     2     2 ⎦⎦"
      ]
     },
     "execution_count": 10,
     "metadata": {},
     "output_type": "execute_result"
    }
   ],
   "source": [
    "sp.init_printing(use_latex='mathjax')\n",
    "alpha, beta = sp.symbols('alpha,beta')\n",
    "C_psi=sp.Matrix([[alpha/sp.sqrt(2),beta/sp.sqrt(2)],[beta/sp.sqrt(2),alpha/sp.sqrt(2)]])\n",
    "CCd_psi=C_psi * C_psi.H # C * C daga\n",
    "CdC_psi=C_psi * C_psi.H # C daga * C\n",
    "\n",
    "CCd_diag = CCd_psi.diagonalize()\n",
    "CdC_diag = CdC_psi.diagonalize()\n",
    "\n",
    "U_psi = CCd_diag[0]/sp.sqrt(CCd_diag[0].norm()*CCd_diag[0].inv().norm()) # preguntar si esto vale siempre\n",
    "V_psi = CdC_diag[0]/sp.sqrt(CdC_diag[0].norm()*CdC_diag[0].inv().norm()) # (relación daga / inversa)\n",
    "\n",
    "kA_psi = qt.Qobj(np.array(U_psi))*[st0,st1]\n",
    "kB_psi = qt.Qobj(np.array(V_psi)).conj()*[st0,st1]\n",
    "\n",
    "avals_psi_U = CCd_diag[1]\n",
    "avals_psi_V = CdC_diag[1]\n",
    "print('Chequeo: la resta entre las matrices D^2 tiene que ser nula:', avals_psi_U-avals_psi_V)\n",
    "print('')\n",
    "print('Los kets k son:')\n",
    "print('Para el sistema A:')\n",
    "print(kA_psi)\n",
    "print('y para el sistema B:')\n",
    "print(kB_psi)\n",
    "print('')\n",
    "print('Y sus valores de sigma_k^2 son:')\n",
    "avals_psi_U.get_diag_blocks()"
   ]
  },
  {
   "cell_type": "markdown",
   "metadata": {},
   "source": [
    "Es decir que, como $|\\alpha|^2+|\\beta|^2=1$, $\\sigma_k^2=\\frac{1}{2}\\mp\\text{Re}\\,\\alpha\\beta$.\n",
    "\n",
    "Y, escrito de manera más amigable, su descomposición de Schmidt resulta ser\n",
    "\n",
    "$$\\begin{align}\n",
    "\\ket{\\Psi_{AB}}=&\\sqrt{\\frac{1}{2}-\\text{Re}\\,\\alpha\\beta}\\,\\,\\left(\\frac{-\\ket{0}+\\ket{1}}{\\sqrt{2}}\\right)\\otimes\\left(\\frac{-\\ket{0}+\\ket{1}}{\\sqrt{2}}\\right)\\\\\n",
    "&+\\sqrt{\\frac{1}{2}+\\text{Re}\\,\\alpha\\beta}\\,\\,\\left(\\frac{\\ket{0}+\\ket{1}}{\\sqrt{2}}\\right)\\otimes\\left(\\frac{\\ket{0}+\\ket{1}}{\\sqrt{2}}\\right)\n",
    "\\end{align}$$\n",
    "\n",
    "También podemos ver que si Re$\\,\\alpha\\beta=\\frac{1}{2}$, queda un único valor singular distinto de cero: no hay entrelazamiento y el estado es separable. En el caso real, esto corresponde a $\\alpha=\\beta=\\frac{1}{\\sqrt{2}}$. En ese caso, el estado resulta ser $\\ket{\\Psi_{AB}}=\\left(\\frac{\\ket{0}+\\ket{1}}{\\sqrt{2}}\\right)\\otimes\\left(\\frac{\\ket{0}+\\ket{1}}{\\sqrt{2}}\\right)$.\n",
    "\n",
    "Y, en el caso de que Re$(\\alpha\\beta)=0$, ambos valores singulares son $\\frac{1}{\\sqrt{2}}$; es decir, entrelazamiento máximo cuando alguno de los dos es nulo, y el estado toma la forma $\\ket{\\Psi_{AB}}=\\left(\\frac{1}{2}\\right)\\,\\,\\left(\\frac{-\\ket{0}+\\ket{1}}{\\sqrt{2}}\\right)\\otimes\\left(\\frac{-\\ket{0}+\\ket{1}}{\\sqrt{2}}\\right)+\\left(\\frac{1}{2}\\right)\\,\\,\\left(\\frac{\\ket{0}+\\ket{1}}{\\sqrt{2}}\\right)\\otimes\\left(\\frac{\\ket{0}+\\ket{1}}{\\sqrt{2}}\\right)$\n",
    "\n",
    "En cualquier otro caso, podemos calcular la entropía de entrelazamiento:\n",
    "$$\\begin{align}\n",
    "E(A,B)&=-\\sum_k^{n_s}\\sigma_k^2\\text{log}_2\\sigma_k^2 \\\\\n",
    "&=-\\left[\\frac{1}{2}+\\text{Re}(\\alpha\\beta)\\right]\\text{log}_2\\left[\\frac{1}{2}+\\text{Re}(\\alpha\\beta)\\right]-\\left[\\frac{1}{2}-\\text{Re}(\\alpha\\beta)\\right]\\text{log}_2\\left[\\frac{1}{2}-\\text{Re}(\\alpha\\beta)\\right]\n",
    "\\end{align}$$"
   ]
  },
  {
   "cell_type": "markdown",
   "metadata": {},
   "source": [
    "**II.5** a) Indicar en qué se diferencian el estado de Bell $\\ket{\\Psi_{AB}}=\\frac{\\ket{01}+\\ket{10}}{\\sqrt{2}}$ y el estado descripto por el operador densidad\n",
    "$$\\rho_{AB}=\\frac{1}{2}\\left(\\ket{01}\\bra{01}+\\ket{10}\\bra{10}\\right)$$\n",
    "b) Indicar si es posible distinguirlos mediante\n",
    "\n",
    "i) el valor medio de un observable local $O_A\\otimes I_B$.\n",
    "\n",
    "ii) el valor medio de un observable $O=O_A\\otimes O_B$"
   ]
  },
  {
   "cell_type": "markdown",
   "metadata": {},
   "source": [
    "**Res:** La diferencia clave entre estos dos estados es que no están representados por la misma matriz densidad, ya que\n",
    "$$\\chi_{AB}=\\ket{\\Psi_{AB}}\\bra{\\Psi_{AB}}=\\frac{1}{2}\\left(\\ket{01}\\bra{01}+\\ket{01}\\bra{10}+\\ket{10}\\bra{01}+\\ket{10}\\bra{10}\\right)$$"
   ]
  },
  {
   "cell_type": "code",
   "execution_count": 11,
   "metadata": {},
   "outputs": [
    {
     "data": {
      "text/latex": [
       "Quantum object: dims = [[2, 2], [2, 2]], shape = (4, 4), type = oper, isherm = True\\begin{equation*}\\left(\\begin{array}{*{11}c}0.0 & 0.0 & 0.0 & 0.0\\\\0.0 & 0.500 & 0.500 & 0.0\\\\0.0 & 0.500 & 0.500 & 0.0\\\\0.0 & 0.0 & 0.0 & 0.0\\\\\\end{array}\\right)\\end{equation*}"
      ],
      "text/plain": [
       "Quantum object: dims = [[2, 2], [2, 2]], shape = (4, 4), type = oper, isherm = True\n",
       "Qobj data =\n",
       "[[0.  0.  0.  0. ]\n",
       " [0.  0.5 0.5 0. ]\n",
       " [0.  0.5 0.5 0. ]\n",
       " [0.  0.  0.  0. ]]"
      ]
     },
     "execution_count": 11,
     "metadata": {},
     "output_type": "execute_result"
    }
   ],
   "source": [
    "chi_AB = qt.ket2dm((st01+st10)/np.sqrt(2))\n",
    "chi_AB"
   ]
  },
  {
   "cell_type": "markdown",
   "metadata": {},
   "source": [
    "Por otro lado, como $\\mean{O_A\\otimes I_B}=\\text{Tr }(\\rho_{AB}\\,O_A\\otimes I_B)=\\text{Tr }(\\rho_A\\,O_A)$, no voy a poder distinguirlos con un operador local, porque sus densidades locales son iguales:"
   ]
  },
  {
   "cell_type": "code",
   "execution_count": 12,
   "metadata": {},
   "outputs": [
    {
     "name": "stdout",
     "output_type": "stream",
     "text": [
      "La resta entre sus densidades locales es:\n"
     ]
    },
    {
     "data": {
      "text/latex": [
       "Quantum object: dims = [[2], [2]], shape = (2, 2), type = oper, isherm = True\\begin{equation*}\\left(\\begin{array}{*{11}c}0.0 & 0.0\\\\0.0 & 0.0\\\\\\end{array}\\right)\\end{equation*}"
      ],
      "text/plain": [
       "Quantum object: dims = [[2], [2]], shape = (2, 2), type = oper, isherm = True\n",
       "Qobj data =\n",
       "[[0. 0.]\n",
       " [0. 0.]]"
      ]
     },
     "execution_count": 12,
     "metadata": {},
     "output_type": "execute_result"
    }
   ],
   "source": [
    "rho_AB = (st01*st01.dag()+st10*st10.dag())/2\n",
    "rho_A = rho_AB.ptrace(1)\n",
    "chi_A = chi_AB.ptrace(1)\n",
    "print('La resta entre sus densidades locales es:')\n",
    "rho_A-chi_A"
   ]
  },
  {
   "cell_type": "markdown",
   "metadata": {},
   "source": [
    "Finalmente, para que un operador $O_A\\otimes O_B$ permita obtener distintos resultados para cada estado, necesito que tenga elementos fuera de la diagonal, que permitan que los términos cruzados actúen. Por ejemplo, midiendo $\\sigma_x\\otimes\\sigma_x$ uno obtiene:"
   ]
  },
  {
   "cell_type": "code",
   "execution_count": 13,
   "metadata": {},
   "outputs": [
    {
     "name": "stdout",
     "output_type": "stream",
     "text": [
      "Resultado con rho:  0.0\n",
      "Resultado con chi:  0.9999999999999998\n"
     ]
    }
   ],
   "source": [
    "O_AB = qt.tensor(qt.sigmax(),qt.sigmax())\n",
    "res_rho = (rho_AB*O_AB).tr()\n",
    "res_chi = (chi_AB*O_AB).tr()\n",
    "print('Resultado con rho: ',res_rho)\n",
    "print('Resultado con chi: ',res_chi)"
   ]
  },
  {
   "cell_type": "code",
   "execution_count": null,
   "metadata": {},
   "outputs": [],
   "source": []
  }
 ],
 "metadata": {
  "kernelspec": {
   "display_name": "Python 3",
   "language": "python",
   "name": "python3"
  },
  "language_info": {
   "codemirror_mode": {
    "name": "ipython",
    "version": 3
   },
   "file_extension": ".py",
   "mimetype": "text/x-python",
   "name": "python",
   "nbconvert_exporter": "python",
   "pygments_lexer": "ipython3",
   "version": "3.7.7"
  }
 },
 "nbformat": 4,
 "nbformat_minor": 4
}
