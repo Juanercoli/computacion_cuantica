{
  "cells": [
    {
      "cell_type": "markdown",
      "metadata": {
        "id": "view-in-github",
        "colab_type": "text"
      },
      "source": [
        "<a href=\"https://colab.research.google.com/github/alan-nala/computacion_cuantica/blob/master/Jupyter/Practica1.ipynb\" target=\"_parent\"><img src=\"https://colab.research.google.com/assets/colab-badge.svg\" alt=\"Open In Colab\"/></a>"
      ]
    },
    {
      "cell_type": "markdown",
      "metadata": {
        "id": "g6hmbt8R4rH7"
      },
      "source": [
        "# Práctica 1 (Curso 2025)\n",
        "## Introducciń a la Aquitectura de Computadoras Cuánticas"
      ]
    },
    {
      "cell_type": "code",
      "execution_count": null,
      "metadata": {
        "id": "8fIIT9rr4rH_"
      },
      "outputs": [],
      "source": [
        "%matplotlib inline\n",
        "import matplotlib.pyplot as plt\n",
        "import numpy as np\n",
        "from IPython.display import Image"
      ]
    },
    {
      "cell_type": "code",
      "execution_count": null,
      "metadata": {
        "id": "XG7hwAZ64rIA",
        "outputId": "01677449-69ba-46f2-8339-2588196d357a"
      },
      "outputs": [
        {
          "name": "stdout",
          "output_type": "stream",
          "text": [
            "Collecting qutip\n",
            "  Downloading qutip-5.0.4-cp310-cp310-manylinux_2_17_x86_64.manylinux2014_x86_64.whl (28.0 MB)\n",
            "\u001b[2K     \u001b[90m━━━━━━━━━━━━━━━━━━━━━━━━━━━━━━━━━━━━━━━━\u001b[0m \u001b[32m28.0/28.0 MB\u001b[0m \u001b[31m2.6 MB/s\u001b[0m eta \u001b[36m0:00:00\u001b[0m00:01\u001b[0m00:01\u001b[0m\n",
            "\u001b[?25hRequirement already satisfied: scipy>=1.9 in /home/alan/.pyenv/versions/qiskit/lib/python3.10/site-packages (from qutip) (1.13.1)\n",
            "Requirement already satisfied: packaging in /home/alan/.pyenv/versions/qiskit/lib/python3.10/site-packages (from qutip) (24.1)\n",
            "Requirement already satisfied: numpy>=1.22 in /home/alan/.pyenv/versions/qiskit/lib/python3.10/site-packages (from qutip) (1.26.4)\n",
            "Installing collected packages: qutip\n",
            "Successfully installed qutip-5.0.4\n"
          ]
        }
      ],
      "source": [
        "!pip install qutip"
      ]
    },
    {
      "cell_type": "markdown",
      "metadata": {
        "id": "ZeScEYuV4rIC"
      },
      "source": [
        "Para usar QuTiP en un programa de Python, se incluye el modulo `qutip` al principio:"
      ]
    },
    {
      "cell_type": "code",
      "execution_count": null,
      "metadata": {
        "id": "7kKENb2L4rID"
      },
      "outputs": [],
      "source": [
        "from qutip import *"
      ]
    },
    {
      "cell_type": "code",
      "execution_count": null,
      "metadata": {
        "id": "LLvG9vbn4rIE"
      },
      "outputs": [],
      "source": [
        "from sympy import init_printing\n",
        "init_printing(use_latex=True)"
      ]
    },
    {
      "cell_type": "markdown",
      "metadata": {
        "id": "CNSKxCzX4rIF"
      },
      "source": [
        "Esto habilita las funciones y clases de QuTiP en el resto del programa."
      ]
    },
    {
      "cell_type": "markdown",
      "metadata": {
        "id": "Sx3H_BMk4rIH"
      },
      "source": [
        "## Quantum object class: `qobj`\n",
        "\n",
        "`Qobj` class, which is used for representing quantum object such as states and operator.\n",
        "\n",
        "The `Qobj` class contains all the information required to describe a quantum system, such as its matrix representation, composite structure and dimensionality."
      ]
    },
    {
      "cell_type": "markdown",
      "metadata": {
        "id": "n53dU21J4rII"
      },
      "source": [
        "## Estados"
      ]
    },
    {
      "cell_type": "markdown",
      "metadata": {
        "id": "lxl_Te_44rIJ"
      },
      "source": [
        "Create a new quantum object using the `Qobj` class constructor, like this:"
      ]
    },
    {
      "cell_type": "markdown",
      "metadata": {
        "id": "3JFs5Yr54rIJ"
      },
      "source": [
        "### Base Estandar 1-qubit"
      ]
    },
    {
      "cell_type": "markdown",
      "metadata": {
        "id": "sy1QOKKA4rIO"
      },
      "source": [
        "$|0\\rangle$"
      ]
    },
    {
      "cell_type": "code",
      "execution_count": null,
      "metadata": {
        "id": "3NN_7aoi4rIO",
        "outputId": "8b72a30c-b33c-4fc2-9b77-f9ce74e96c4c"
      },
      "outputs": [
        {
          "data": {
            "text/latex": [
              "Quantum object: dims=[[2], [1]], shape=(2, 1), type='ket', dtype=Dense$$\\left(\\begin{array}{cc}1\\\\0\\end{array}\\right)$$"
            ],
            "text/plain": [
              "Quantum object: dims=[[2], [1]], shape=(2, 1), type='ket', dtype=Dense\n",
              "Qobj data =\n",
              "[[1.]\n",
              " [0.]]"
            ]
          },
          "execution_count": 5,
          "metadata": {},
          "output_type": "execute_result"
        }
      ],
      "source": [
        "st0 = Qobj([[1], [0]])\n",
        "\n",
        "st0"
      ]
    },
    {
      "cell_type": "code",
      "execution_count": null,
      "metadata": {
        "id": "6WbAcjbV4rIQ",
        "outputId": "2094ded0-f4b6-4f21-f8d2-249ee3c01e32"
      },
      "outputs": [
        {
          "data": {
            "text/latex": [
              "Quantum object: dims=[[2], [1]], shape=(2, 1), type='ket', dtype=Dense$$\\left(\\begin{array}{cc}0\\\\1\\end{array}\\right)$$"
            ],
            "text/plain": [
              "Quantum object: dims=[[2], [1]], shape=(2, 1), type='ket', dtype=Dense\n",
              "Qobj data =\n",
              "[[0.]\n",
              " [1.]]"
            ]
          },
          "execution_count": 6,
          "metadata": {},
          "output_type": "execute_result"
        }
      ],
      "source": [
        "st1 = Qobj([[0], [1]])\n",
        "\n",
        "st1"
      ]
    },
    {
      "cell_type": "markdown",
      "metadata": {
        "id": "hueBdkRI4rIR"
      },
      "source": [
        "Here we passed python list as an argument to the class constructor. The data in this list is used to construct the matrix representation of the quantum objects, and the other properties of the quantum object is by default computed from the same data.\n",
        "\n",
        "We can inspect the properties of a `Qobj` instance using the following class method:"
      ]
    },
    {
      "cell_type": "code",
      "execution_count": null,
      "metadata": {
        "id": "A2gVwWpn4rIS",
        "outputId": "e4ace534-cc3c-4f84-d70b-dccf931c1172"
      },
      "outputs": [
        {
          "data": {
            "image/png": "[encoded data removed]",
            "text/latex": [
              "$\\displaystyle \\left[ \\left[ 2\\right], \\  \\left[ 1\\right]\\right]$"
            ],
            "text/plain": [
              "[[2], [1]]"
            ]
          },
          "execution_count": 7,
          "metadata": {},
          "output_type": "execute_result"
        }
      ],
      "source": [
        "# the dimension, or composite Hilbert state space structure\n",
        "st0.dims"
      ]
    },
    {
      "cell_type": "code",
      "execution_count": null,
      "metadata": {
        "id": "78fgmEt04rIU",
        "outputId": "068c2304-00e4-499c-ba23-13a5951e57f7"
      },
      "outputs": [
        {
          "data": {
            "image/png": "[encoded data removed]",
            "text/latex": [
              "$\\displaystyle \\left( 2, \\  1\\right)$"
            ],
            "text/plain": [
              "(2, 1)"
            ]
          },
          "execution_count": 8,
          "metadata": {},
          "output_type": "execute_result"
        }
      ],
      "source": [
        "# the shape of the matrix data representation\n",
        "st0.shape"
      ]
    },
    {
      "cell_type": "code",
      "execution_count": null,
      "metadata": {
        "id": "KFhYO9YM4rIV",
        "outputId": "45bfaa77-b124-4a88-ac7d-456bb1c6d879"
      },
      "outputs": [
        {
          "data": {
            "text/plain": [
              "Dense(shape=(2, 1), fortran=True)"
            ]
          },
          "execution_count": 9,
          "metadata": {},
          "output_type": "execute_result"
        }
      ],
      "source": [
        "# the matrix data itself. in sparse matrix format.\n",
        "st0.data"
      ]
    },
    {
      "cell_type": "code",
      "execution_count": null,
      "metadata": {
        "id": "6Hiswool4rIW",
        "outputId": "4ba083c5-0e55-4ca4-85c0-137959f7c656"
      },
      "outputs": [
        {
          "data": {
            "text/plain": [
              "array([[1.+0.j],\n",
              "       [0.+0.j]])"
            ]
          },
          "execution_count": 10,
          "metadata": {},
          "output_type": "execute_result"
        }
      ],
      "source": [
        "# get the dense matrix representation\n",
        "st0.full()"
      ]
    },
    {
      "cell_type": "code",
      "execution_count": null,
      "metadata": {
        "id": "LI_brFNV4rIX",
        "outputId": "4496ca60-ffc1-4ce7-e928-d3da47babf25"
      },
      "outputs": [
        {
          "data": {
            "text/plain": [
              "(False, 'ket')"
            ]
          },
          "execution_count": 7,
          "metadata": {},
          "output_type": "execute_result"
        }
      ],
      "source": [
        "# some additional properties\n",
        "st0.isherm, st0.type"
      ]
    },
    {
      "cell_type": "markdown",
      "metadata": {
        "id": "D4pauIgZ4rIY"
      },
      "source": [
        "### Base estandar 2-qubits"
      ]
    },
    {
      "cell_type": "code",
      "execution_count": null,
      "metadata": {
        "id": "qHQ5hHwg4rIZ",
        "outputId": "18d32741-bb00-4466-9c89-889fc81a1c9a"
      },
      "outputs": [
        {
          "data": {
            "text/latex": [
              "Quantum object: dims=[[2, 2], [1, 1]], shape=(4, 1), type='ket', dtype=Dense$$\\left(\\begin{array}{cc}1\\\\0\\\\0\\\\0\\end{array}\\right)$$"
            ],
            "text/plain": [
              "Quantum object: dims=[[2, 2], [1, 1]], shape=(4, 1), type='ket', dtype=Dense\n",
              "Qobj data =\n",
              "[[1.]\n",
              " [0.]\n",
              " [0.]\n",
              " [0.]]"
            ]
          },
          "execution_count": 11,
          "metadata": {},
          "output_type": "execute_result"
        }
      ],
      "source": [
        "st00=tensor(st0,st0);\n",
        "st01=tensor(st0,st1);\n",
        "st10=tensor(st1,st0);\n",
        "st11=tensor(st1,st1);\n",
        "\n",
        "st00\n"
      ]
    },
    {
      "cell_type": "code",
      "execution_count": null,
      "metadata": {
        "id": "nNamV2jY4rIZ",
        "outputId": "c1d4b817-ffe2-490f-9a00-e0558dc92f58"
      },
      "outputs": [
        {
          "data": {
            "text/latex": [
              "Quantum object: dims=[[2, 2], [1, 1]], shape=(4, 1), type='ket', dtype=Dense$$\\left(\\begin{array}{cc}0\\\\1\\\\0\\\\0\\end{array}\\right)$$"
            ],
            "text/plain": [
              "Quantum object: dims=[[2, 2], [1, 1]], shape=(4, 1), type='ket', dtype=Dense\n",
              "Qobj data =\n",
              "[[0.]\n",
              " [1.]\n",
              " [0.]\n",
              " [0.]]"
            ]
          },
          "execution_count": 12,
          "metadata": {},
          "output_type": "execute_result"
        }
      ],
      "source": [
        "st01"
      ]
    },
    {
      "cell_type": "code",
      "execution_count": null,
      "metadata": {
        "scrolled": true,
        "id": "DK5Zp3wE4rIa",
        "outputId": "40fcb8c7-de93-49ff-a49d-884560d52bf3"
      },
      "outputs": [
        {
          "data": {
            "text/latex": [
              "Quantum object: dims=[[2, 2], [1, 1]], shape=(4, 1), type='ket', dtype=Dense$$\\left(\\begin{array}{cc}0.707\\\\0\\\\0\\\\0.707\\end{array}\\right)$$"
            ],
            "text/plain": [
              "Quantum object: dims=[[2, 2], [1, 1]], shape=(4, 1), type='ket', dtype=Dense\n",
              "Qobj data =\n",
              "[[0.70710678]\n",
              " [0.        ]\n",
              " [0.        ]\n",
              " [0.70710678]]"
            ]
          },
          "execution_count": 13,
          "metadata": {},
          "output_type": "execute_result"
        }
      ],
      "source": [
        "Psi00=(st00+st11)/np.sqrt(2); Psi00 #estado de Bell"
      ]
    },
    {
      "cell_type": "markdown",
      "metadata": {
        "id": "KqWBojot4rIb"
      },
      "source": [
        "##  Matrices Densidad"
      ]
    },
    {
      "cell_type": "code",
      "execution_count": null,
      "metadata": {
        "id": "qT235sB-4rIb",
        "outputId": "2195b836-1637-4ec2-b2ec-dd915d2e55ea"
      },
      "outputs": [
        {
          "data": {
            "text/latex": [
              "Quantum object: dims=[[2], [2]], shape=(2, 2), type='oper', dtype=Dense, isherm=True$$\\left(\\begin{array}{cc}1 & 0\\\\0 & 0\\end{array}\\right)$$"
            ],
            "text/plain": [
              "Quantum object: dims=[[2], [2]], shape=(2, 2), type='oper', dtype=Dense, isherm=True\n",
              "Qobj data =\n",
              "[[1. 0.]\n",
              " [0. 0.]]"
            ]
          },
          "execution_count": 14,
          "metadata": {},
          "output_type": "execute_result"
        }
      ],
      "source": [
        "rho0=st0*st0.dag();rho0 # Proyector |0><0| de un qubit\n",
        "rho0tilde=ket2dm(st0) #otra forma\n",
        "rho0tilde"
      ]
    },
    {
      "cell_type": "code",
      "execution_count": null,
      "metadata": {
        "id": "B44efwFv4rIc",
        "outputId": "105135c1-c01e-44e3-d2b6-954b08dd380d"
      },
      "outputs": [
        {
          "data": {
            "text/latex": [
              "Quantum object: dims=[[2], [2]], shape=(2, 2), type='oper', dtype=Dense, isherm=True$$\\left(\\begin{array}{cc}1 & 0\\\\0 & 0\\end{array}\\right)$$"
            ],
            "text/plain": [
              "Quantum object: dims=[[2], [2]], shape=(2, 2), type='oper', dtype=Dense, isherm=True\n",
              "Qobj data =\n",
              "[[1. 0.]\n",
              " [0. 0.]]"
            ]
          },
          "execution_count": 15,
          "metadata": {},
          "output_type": "execute_result"
        }
      ],
      "source": [
        "rho0"
      ]
    },
    {
      "cell_type": "code",
      "execution_count": null,
      "metadata": {
        "id": "d6HOLtAz4rIc",
        "outputId": "cfa7f311-5178-44c5-c3ba-2c1dc6b90e07"
      },
      "outputs": [
        {
          "data": {
            "text/latex": [
              "Quantum object: dims=[[2, 2], [2, 2]], shape=(4, 4), type='oper', dtype=Dense, isherm=True$$\\left(\\begin{array}{cc}1 & 0 & 0 & 0\\\\0 & 0 & 0 & 0\\\\0 & 0 & 0 & 0\\\\0 & 0 & 0 & 0\\end{array}\\right)$$"
            ],
            "text/plain": [
              "Quantum object: dims=[[2, 2], [2, 2]], shape=(4, 4), type='oper', dtype=Dense, isherm=True\n",
              "Qobj data =\n",
              "[[1. 0. 0. 0.]\n",
              " [0. 0. 0. 0.]\n",
              " [0. 0. 0. 0.]\n",
              " [0. 0. 0. 0.]]"
            ]
          },
          "execution_count": 16,
          "metadata": {},
          "output_type": "execute_result"
        }
      ],
      "source": [
        "rho00 = st00 * st00.dag();rho00 #Proyector |00><00| de dos qubits"
      ]
    },
    {
      "cell_type": "markdown",
      "metadata": {
        "id": "NTQzDO4b4rId"
      },
      "source": [
        "## Parte II: Estados de sistemas compuestos. Entrelazamiento\n",
        "\n",
        "### II.1 Para un sistema de dos qubits, escribir explícitamente la matriz que representa a $\\rho_{AB}=|\\Phi_{AB}\\rangle\\langle\\Phi_{AB}|$ en la base computacional $\\{|00\\rangle,|01\\rangle,|10\\rangle,|11\\rangle\\}$ para:\n",
        "\n",
        "$a)|\\Phi_{AB}\\rangle=\\frac{|00\\rangle\\pm|11\\rangle}{\\sqrt{2}}\\,,\\;\\;\\;\\;\\;\\;$\n",
        "$b) \\;|\\Psi_{AB}\\rangle=\\frac{|00\\rangle+|10\\rangle-|01\\rangle-|11\\rangle}{2}$\n",
        "\n",
        "Verificar  en todos los casos que los autovalores de $\\rho$ son $(1,0,0,0)$."
      ]
    },
    {
      "cell_type": "code",
      "execution_count": null,
      "metadata": {
        "scrolled": true,
        "id": "iVEy6UQM4rIe",
        "outputId": "82875adf-2a42-4770-9bb4-fd44e5d8ae6c"
      },
      "outputs": [
        {
          "data": {
            "text/latex": [
              "Quantum object: dims=[[2, 2], [2, 2]], shape=(4, 4), type='oper', dtype=Dense, isherm=True$$\\left(\\begin{array}{cc}0.500 & 0 & 0 & 0.500\\\\0 & 0 & 0 & 0\\\\0 & 0 & 0 & 0\\\\0.500 & 0 & 0 & 0.500\\end{array}\\right)$$"
            ],
            "text/plain": [
              "Quantum object: dims=[[2, 2], [2, 2]], shape=(4, 4), type='oper', dtype=Dense, isherm=True\n",
              "Qobj data =\n",
              "[[0.5 0.  0.  0.5]\n",
              " [0.  0.  0.  0. ]\n",
              " [0.  0.  0.  0. ]\n",
              " [0.5 0.  0.  0.5]]"
            ]
          },
          "execution_count": 17,
          "metadata": {},
          "output_type": "execute_result"
        }
      ],
      "source": [
        "rhoPsi00 = Psi00 * Psi00.dag();rhoPsi00"
      ]
    },
    {
      "cell_type": "code",
      "execution_count": null,
      "metadata": {
        "id": "iE357TlH4rIe",
        "outputId": "131e5884-a3b8-4946-d7e2-a6c6d44891bb"
      },
      "outputs": [
        {
          "data": {
            "text/latex": [
              "Quantum object: dims=[[2, 2], [2, 2]], shape=(4, 4), type='oper', dtype=Dense, isherm=True$$\\left(\\begin{array}{cc}0.500 & 0 & 0 & 0.500\\\\0 & 0 & 0 & 0\\\\0 & 0 & 0 & 0\\\\0.500 & 0 & 0 & 0.500\\end{array}\\right)$$"
            ],
            "text/plain": [
              "Quantum object: dims=[[2, 2], [2, 2]], shape=(4, 4), type='oper', dtype=Dense, isherm=True\n",
              "Qobj data =\n",
              "[[0.5 0.  0.  0.5]\n",
              " [0.  0.  0.  0. ]\n",
              " [0.  0.  0.  0. ]\n",
              " [0.5 0.  0.  0.5]]"
            ]
          },
          "execution_count": 24,
          "metadata": {},
          "output_type": "execute_result"
        }
      ],
      "source": [
        "rhoPsi00"
      ]
    },
    {
      "cell_type": "code",
      "execution_count": null,
      "metadata": {
        "id": "HWYhWD8n4rIf",
        "outputId": "c7cb8608-1d81-4123-f89d-1d23badd6a8f"
      },
      "outputs": [
        {
          "data": {
            "text/plain": [
              "array([[0.5, 0. , 0. , 0.5],\n",
              "       [0. , 0. , 0. , 0. ],\n",
              "       [0. , 0. , 0. , 0. ],\n",
              "       [0.5, 0. , 0. , 0.5]])"
            ]
          },
          "execution_count": 27,
          "metadata": {},
          "output_type": "execute_result"
        }
      ],
      "source": [
        "rhoPsi00a=np.array([[1,0,0,1],[0,0,0,0],[0,0,0,0],[1,0,0,1]])/(2)\n",
        "rhoPsi00a"
      ]
    },
    {
      "cell_type": "code",
      "execution_count": null,
      "metadata": {
        "id": "uqgZv0me4rIg",
        "outputId": "a7461e71-5795-45fc-e91d-ec34e9bc5c21"
      },
      "outputs": [
        {
          "name": "stdout",
          "output_type": "stream",
          "text": [
            "Eigenvalues: [1.00000000e+00 1.11022302e-16 0.00000000e+00 0.00000000e+00]\n",
            "Eigenvectors: [[ 0.70710678 -0.70710678  0.          0.        ]\n",
            " [ 0.          0.          1.          0.        ]\n",
            " [ 0.          0.          0.          1.        ]\n",
            " [ 0.70710678  0.70710678  0.          0.        ]]\n"
          ]
        }
      ],
      "source": [
        "# eigenvalues and eigenvectors\n",
        "e,v = np.linalg.eig(rhoPsi00a)\n",
        "print(\"Eigenvalues:\",e)\n",
        "print(\"Eigenvectors:\",v)"
      ]
    },
    {
      "cell_type": "markdown",
      "metadata": {
        "id": "hZ_KmopJ4rIh"
      },
      "source": [
        "### II.2 Hallar la matriz densidad reducida $\\rho_A={\\rm Tr}_B\\rho_{AB}$ en todos los casos anteriores, y a partir de ella evaluar la entropía de entrelazamiento del estado."
      ]
    },
    {
      "cell_type": "code",
      "execution_count": null,
      "metadata": {
        "scrolled": true,
        "id": "jpaqLS3V4rIh",
        "outputId": "f99c3bc3-0622-4c66-c991-9cb9b4b71f1d"
      },
      "outputs": [
        {
          "data": {
            "text/latex": [
              "Quantum object: dims=[[2], [2]], shape=(2, 2), type='oper', dtype=Dense, isherm=True$$\\left(\\begin{array}{cc}0.500 & 0\\\\0 & 0.500\\end{array}\\right)$$"
            ],
            "text/plain": [
              "Quantum object: dims=[[2], [2]], shape=(2, 2), type='oper', dtype=Dense, isherm=True\n",
              "Qobj data =\n",
              "[[0.5 0. ]\n",
              " [0.  0.5]]"
            ]
          },
          "execution_count": 19,
          "metadata": {},
          "output_type": "execute_result"
        }
      ],
      "source": [
        "rhored=rhoPsi00.ptrace(1);rhored #estado reducido"
      ]
    },
    {
      "cell_type": "code",
      "execution_count": null,
      "metadata": {
        "id": "schJGSmx4rIi",
        "outputId": "dc3c484c-1b96-44b0-b579-4d4d8732880e"
      },
      "outputs": [
        {
          "name": "stdout",
          "output_type": "stream",
          "text": [
            "Es máximamente entrelazado:E(A,B)= 1.0\n"
          ]
        }
      ],
      "source": [
        "p_0=p_1=0.5\n",
        "\n",
        "E = -(p_0*np.log2(p_0) + p_1*np.log2(p_1))\n",
        "\n",
        "print(\"Es máximamente entrelazado:E(A,B)=\",E)"
      ]
    },
    {
      "cell_type": "markdown",
      "metadata": {
        "id": "Eg6L403M4rIj"
      },
      "source": [
        "### II.3  Hallar la descomposición de Schmidt de los estados anteriores."
      ]
    },
    {
      "cell_type": "markdown",
      "metadata": {
        "id": "KquzVXp94rIj"
      },
      "source": [
        "a) El estado $|\\Phi_{AB}\\rangle=\\frac{|00\\rangle+|11\\rangle}{\\sqrt{2}}$ ya se encuentra en la descomposición de Schmidt"
      ]
    },
    {
      "cell_type": "code",
      "execution_count": null,
      "metadata": {
        "id": "BHhXph1i4rIk",
        "outputId": "c4514469-7146-4e78-d258-46eadfe228e4"
      },
      "outputs": [
        {
          "data": {
            "text/latex": [
              "Quantum object: dims=[[2, 2], [1, 1]], shape=(4, 1), type='ket', dtype=Dense$$\\left(\\begin{array}{cc}0.707\\\\0\\\\0\\\\0.707\\end{array}\\right)$$"
            ],
            "text/plain": [
              "Quantum object: dims=[[2, 2], [1, 1]], shape=(4, 1), type='ket', dtype=Dense\n",
              "Qobj data =\n",
              "[[0.70710678]\n",
              " [0.        ]\n",
              " [0.        ]\n",
              " [0.70710678]]"
            ]
          },
          "execution_count": 21,
          "metadata": {},
          "output_type": "execute_result"
        }
      ],
      "source": [
        "Psi00"
      ]
    },
    {
      "cell_type": "code",
      "execution_count": null,
      "metadata": {
        "scrolled": true,
        "id": "1J-ogjvC4rIl",
        "outputId": "593abebf-4a00-4683-f711-88f8c0d76e99"
      },
      "outputs": [
        {
          "data": {
            "text/plain": [
              "array([[0.70710678, 0.        ],\n",
              "       [0.        , 0.70710678]])"
            ]
          },
          "execution_count": 22,
          "metadata": {},
          "output_type": "execute_result"
        }
      ],
      "source": [
        "C00=np.array([[1,0],[0,1]])/np.sqrt(2) #Matriz de coeficientes para el estado Psi00\n",
        "C00"
      ]
    },
    {
      "cell_type": "code",
      "execution_count": null,
      "metadata": {
        "scrolled": true,
        "id": "qPOjtm2b4rIn",
        "outputId": "227df091-bd24-495a-eb7b-761828832754"
      },
      "outputs": [
        {
          "data": {
            "text/plain": [
              "array([[1., 0.],\n",
              "       [0., 1.]])"
            ]
          },
          "execution_count": 23,
          "metadata": {},
          "output_type": "execute_result"
        }
      ],
      "source": [
        "U,D,V=np.linalg.svd(C00)\n",
        "V"
      ]
    },
    {
      "cell_type": "markdown",
      "metadata": {
        "id": "nBhzcHPI4rIo"
      },
      "source": [
        "### II.4 Para $|\\alpha|^2+|\\beta|^2=1$, hallar la descomposición de Schmidt del estado  $|\\Psi_{AB}\\rangle=\\alpha\\frac{|00\\rangle+|11\\rangle}{\\sqrt{2}}+\\beta\n",
        "\\frac{|01\\rangle+|10\\rangle}{\\sqrt{2}}$"
      ]
    },
    {
      "cell_type": "code",
      "execution_count": null,
      "metadata": {
        "id": "pcnwcC4a4rIp"
      },
      "outputs": [],
      "source": [
        "import sympy"
      ]
    },
    {
      "cell_type": "code",
      "execution_count": null,
      "metadata": {
        "id": "T68ZZGl24rIp"
      },
      "outputs": [],
      "source": [
        "from sympy import *\n",
        "init_printing(use_latex='mathjax')\n",
        "x, y, z = symbols('x,y,z')\n",
        "r, theta = symbols('r,theta', positive=True)\n",
        "alpha, beta = symbols('alpha,beta', positive=True)"
      ]
    },
    {
      "cell_type": "code",
      "execution_count": null,
      "metadata": {
        "id": "zVgjmz034rIp"
      },
      "outputs": [],
      "source": [
        "vec = np.array([[alpha/sympy.sqrt(2)],[beta/sympy.sqrt(2)],[beta/sympy.sqrt(2)],[alpha/sympy.sqrt(2)]])"
      ]
    },
    {
      "cell_type": "code",
      "execution_count": null,
      "metadata": {
        "scrolled": true,
        "id": "ObzIZ0PI4rIq",
        "outputId": "9b1308e5-f9d6-4725-f4b4-5da6965583ec"
      },
      "outputs": [
        {
          "data": {
            "text/plain": [
              "array([[sqrt(2)*alpha/2],\n",
              "       [sqrt(2)*beta/2],\n",
              "       [sqrt(2)*beta/2],\n",
              "       [sqrt(2)*alpha/2]], dtype=object)"
            ]
          },
          "execution_count": 32,
          "metadata": {},
          "output_type": "execute_result"
        }
      ],
      "source": [
        "vec"
      ]
    },
    {
      "cell_type": "code",
      "execution_count": null,
      "metadata": {
        "id": "HPR1WZfh4rIr",
        "outputId": "14fd54df-8b1a-44d8-ee1a-c1250a87ed13"
      },
      "outputs": [
        {
          "data": {
            "text/plain": [
              "array([[alpha**2/2, alpha*beta/2, alpha*beta/2, alpha**2/2],\n",
              "       [alpha*beta/2, beta**2/2, beta**2/2, alpha*beta/2],\n",
              "       [alpha*beta/2, beta**2/2, beta**2/2, alpha*beta/2],\n",
              "       [alpha**2/2, alpha*beta/2, alpha*beta/2, alpha**2/2]], dtype=object)"
            ]
          },
          "execution_count": 33,
          "metadata": {},
          "output_type": "execute_result"
        }
      ],
      "source": [
        "rho4 = vec @ vec.T.conj()\n",
        "rho4"
      ]
    },
    {
      "cell_type": "code",
      "execution_count": null,
      "metadata": {
        "id": "2S2LZeeH4rIs"
      },
      "outputs": [],
      "source": [
        "rho4_A =Matrix([[alpha**2/2 + beta**2/2, -alpha*beta], [-alpha*beta, alpha**2/2 + beta**2/2]]) #Matriz Reducida"
      ]
    },
    {
      "cell_type": "code",
      "execution_count": null,
      "metadata": {
        "scrolled": true,
        "id": "kRbLQn1V4rIt",
        "outputId": "65439be1-3c6b-41ea-c9d8-1c034f3564f2"
      },
      "outputs": [
        {
          "data": {
            "text/latex": [
              "$\\displaystyle \\left[\\begin{matrix}\\frac{\\alpha^{2}}{2} + \\frac{\\beta^{2}}{2} & - \\alpha \\beta\\\\- \\alpha \\beta & \\frac{\\alpha^{2}}{2} + \\frac{\\beta^{2}}{2}\\end{matrix}\\right]$"
            ],
            "text/plain": [
              "⎡ 2    2         ⎤\n",
              "⎢α    β          ⎥\n",
              "⎢── + ──   -α⋅β  ⎥\n",
              "⎢2    2          ⎥\n",
              "⎢                ⎥\n",
              "⎢          2    2⎥\n",
              "⎢         α    β ⎥\n",
              "⎢ -α⋅β    ── + ──⎥\n",
              "⎣         2    2 ⎦"
            ]
          },
          "execution_count": 35,
          "metadata": {},
          "output_type": "execute_result"
        }
      ],
      "source": [
        "rho4_A"
      ]
    },
    {
      "cell_type": "code",
      "execution_count": null,
      "metadata": {
        "id": "BK7VLZgo4rIt",
        "outputId": "d9e90905-4e6f-4b0b-de6e-c4f08022f34d"
      },
      "outputs": [
        {
          "data": {
            "text/latex": [
              "$\\displaystyle \\left\\{ \\frac{\\alpha^{2}}{2} - \\alpha \\beta + \\frac{\\beta^{2}}{2} : 1, \\  \\frac{\\alpha^{2}}{2} + \\alpha \\beta + \\frac{\\beta^{2}}{2} : 1\\right\\}$"
            ],
            "text/plain": [
              "⎧ 2          2      2          2   ⎫\n",
              "⎪α          β      α          β    ⎪\n",
              "⎨── - α⋅β + ──: 1, ── + α⋅β + ──: 1⎬\n",
              "⎪2          2      2          2    ⎪\n",
              "⎩                                  ⎭"
            ]
          },
          "execution_count": 36,
          "metadata": {},
          "output_type": "execute_result"
        }
      ],
      "source": [
        "rho4_A.eigenvals()"
      ]
    },
    {
      "cell_type": "code",
      "execution_count": null,
      "metadata": {
        "id": "rsOJOaNj4rIv",
        "outputId": "53a87365-9017-4820-b8d7-f51c2454c9c0"
      },
      "outputs": [
        {
          "data": {
            "text/latex": [
              "$\\displaystyle \\left[\\begin{matrix}\\frac{\\sqrt{2} \\alpha}{2} & \\frac{\\sqrt{2} \\beta}{2}\\\\\\frac{\\sqrt{2} \\beta}{2} & \\frac{\\sqrt{2} \\alpha}{2}\\end{matrix}\\right]$"
            ],
            "text/plain": [
              "⎡√2⋅α  √2⋅β⎤\n",
              "⎢────  ────⎥\n",
              "⎢ 2     2  ⎥\n",
              "⎢          ⎥\n",
              "⎢√2⋅β  √2⋅α⎥\n",
              "⎢────  ────⎥\n",
              "⎣ 2     2  ⎦"
            ]
          },
          "execution_count": 37,
          "metadata": {},
          "output_type": "execute_result"
        }
      ],
      "source": [
        "C4=Matrix([[alpha/sympy.sqrt(2),beta/sympy.sqrt(2)],[beta/sympy.sqrt(2),alpha/sympy.sqrt(2)]]) #Matriz de coeficientes para el estado Psi00\n",
        "C4"
      ]
    },
    {
      "cell_type": "code",
      "execution_count": null,
      "metadata": {
        "id": "_7r0At8A4rIv",
        "outputId": "d066d868-65c5-4611-df9a-9c6aad1dda75"
      },
      "outputs": [
        {
          "data": {
            "text/latex": [
              "$\\displaystyle \\left[ \\sqrt{\\frac{\\alpha^{2}}{2} + \\alpha \\beta + \\frac{\\beta^{2}}{2}}, \\  \\sqrt{\\frac{\\alpha^{2}}{2} - \\alpha \\beta + \\frac{\\beta^{2}}{2}}\\right]$"
            ],
            "text/plain": [
              "⎡     _______________       _______________⎤\n",
              "⎢    ╱  2          2       ╱  2          2 ⎥\n",
              "⎢   ╱  α          β       ╱  α          β  ⎥\n",
              "⎢  ╱   ── + α⋅β + ── ,   ╱   ── - α⋅β + ── ⎥\n",
              "⎣╲╱    2          2    ╲╱    2          2  ⎦"
            ]
          },
          "execution_count": 38,
          "metadata": {},
          "output_type": "execute_result"
        }
      ],
      "source": [
        "C4.singular_values()"
      ]
    },
    {
      "cell_type": "markdown",
      "metadata": {
        "id": "29PNW9z14rIw"
      },
      "source": [
        "### II.5 a) Indicar en qué se diferencian el estado de Bell $|\\Psi_{AB}\\rangle=\\frac{|01\\rangle+|10\\rangle}{\\sqrt{2}}$ y el estado descripto por el operador densidad $\\rho_{AB}=\\frac{1}{2}(|01\\rangle\\langle 01|+|10\\rangle\\langle 10|)$\n",
        "### b) Indicar si es posible distinguirlos mediante:\n",
        "### i) el valor medio de un observable local $ O_A\\otimes I_B$.\n",
        "### ii) el valor medio de un observable $O=O_A\\otimes O_B$."
      ]
    },
    {
      "cell_type": "markdown",
      "metadata": {
        "id": "hRY8BZEC4rIx"
      },
      "source": [
        "### Using `Qobj` instances for calculations\n",
        "\n",
        "With `Qobj` instances we can do arithmetic and apply a number of different operations using class methods:"
      ]
    },
    {
      "cell_type": "code",
      "execution_count": null,
      "metadata": {
        "id": "erGdAGa94rIx",
        "outputId": "803ecd8d-79f7-4213-e325-d88b892770a9"
      },
      "outputs": [
        {
          "data": {
            "text/latex": [
              "Quantum object: dims=[[2], [2]], shape=(2, 2), type='oper', dtype=Dense, isherm=True$$\\left(\\begin{array}{cc}0 & -1j\\\\1j & 0\\end{array}\\right)$$"
            ],
            "text/plain": [
              "Quantum object: dims=[[2], [2]], shape=(2, 2), type='oper', dtype=Dense, isherm=True\n",
              "Qobj data =\n",
              "[[ 0.+0.j -0.-1.j]\n",
              " [ 0.+1.j  0.+0.j]]"
            ]
          },
          "execution_count": 39,
          "metadata": {},
          "output_type": "execute_result"
        }
      ],
      "source": [
        "sy = Qobj([[0,-1j], [1j,0]])  # the sigma-y Pauli operator\n",
        "\n",
        "sy"
      ]
    },
    {
      "cell_type": "code",
      "execution_count": null,
      "metadata": {
        "id": "80yLONlK4rIy",
        "outputId": "d373d574-4e07-4279-dd64-5b395667121c"
      },
      "outputs": [
        {
          "data": {
            "text/latex": [
              "Quantum object: dims=[[2], [2]], shape=(2, 2), type='oper', dtype=Dense, isherm=True$$\\left(\\begin{array}{cc}1 & 0\\\\0 & -1\\end{array}\\right)$$"
            ],
            "text/plain": [
              "Quantum object: dims=[[2], [2]], shape=(2, 2), type='oper', dtype=Dense, isherm=True\n",
              "Qobj data =\n",
              "[[ 1.  0.]\n",
              " [ 0. -1.]]"
            ]
          },
          "execution_count": 40,
          "metadata": {},
          "output_type": "execute_result"
        }
      ],
      "source": [
        "sz = Qobj([[1,0], [0,-1]]) # the sigma-z Pauli operator\n",
        "\n",
        "sz"
      ]
    },
    {
      "cell_type": "code",
      "execution_count": null,
      "metadata": {
        "id": "axLn6y4k4rIz",
        "outputId": "c4b50fa1-f450-4569-ab28-aaf487b2ddd6"
      },
      "outputs": [
        {
          "name": "stdout",
          "output_type": "stream",
          "text": [
            "Qubit Hamiltonian = \n",
            "\n"
          ]
        },
        {
          "data": {
            "text/latex": [
              "Quantum object: dims = [[2], [2]], shape = (2, 2), type = oper, isherm = True\\begin{equation*}\\left(\\begin{array}{*{11}c}1.0 & -0.100j\\\\0.100j & -1.0\\\\\\end{array}\\right)\\end{equation*}"
            ],
            "text/plain": [
              "Quantum object: dims = [[2], [2]], shape = (2, 2), type = oper, isherm = True\n",
              "Qobj data =\n",
              "[[ 1.+0.j   0.-0.1j]\n",
              " [ 0.+0.1j -1.+0.j ]]"
            ]
          },
          "execution_count": 12,
          "metadata": {},
          "output_type": "execute_result"
        }
      ],
      "source": [
        "# some arithmetic with quantum objects\n",
        "\n",
        "H = 1.0 * sz + 0.1 * sy\n",
        "\n",
        "print(\"Qubit Hamiltonian = \\n\")\n",
        "H"
      ]
    },
    {
      "cell_type": "markdown",
      "metadata": {
        "id": "uJO3p3vE4rI0"
      },
      "source": [
        "Example of modifying quantum objects using the `Qobj` methods:"
      ]
    },
    {
      "cell_type": "code",
      "execution_count": null,
      "metadata": {
        "id": "Qf-RNVfu4rI0",
        "outputId": "0dac34f1-51bf-4326-8cae-ae9cf4298c20"
      },
      "outputs": [
        {
          "data": {
            "text/latex": [
              "Quantum object: dims = [[2], [2]], shape = (2, 2), type = oper, isherm = True\\begin{equation*}\\left(\\begin{array}{*{11}c}0.0 & -1.0j\\\\1.0j & 0.0\\\\\\end{array}\\right)\\end{equation*}"
            ],
            "text/plain": [
              "Quantum object: dims = [[2], [2]], shape = (2, 2), type = oper, isherm = True\n",
              "Qobj data =\n",
              "[[0.+0.j 0.-1.j]\n",
              " [0.+1.j 0.+0.j]]"
            ]
          },
          "execution_count": 13,
          "metadata": {},
          "output_type": "execute_result"
        }
      ],
      "source": [
        "# The hermitian conjugate\n",
        "sy.dag()"
      ]
    },
    {
      "cell_type": "code",
      "execution_count": null,
      "metadata": {
        "id": "S0vy67rp4rI1",
        "outputId": "0966cdcf-df04-4b10-a470-de8ebc1c38cb"
      },
      "outputs": [
        {
          "data": {
            "text/plain": [
              "0.0"
            ]
          },
          "execution_count": 14,
          "metadata": {},
          "output_type": "execute_result"
        }
      ],
      "source": [
        "# The trace\n",
        "H.tr()"
      ]
    },
    {
      "cell_type": "code",
      "execution_count": null,
      "metadata": {
        "id": "P4hg60Mn4rI2",
        "outputId": "4a4342d4-a8f3-4312-cda1-06d3ea7f1e2a"
      },
      "outputs": [
        {
          "data": {
            "text/plain": [
              "array([-1.00498756,  1.00498756])"
            ]
          },
          "execution_count": 15,
          "metadata": {},
          "output_type": "execute_result"
        }
      ],
      "source": [
        "# Eigen energies\n",
        "H.eigenenergies()"
      ]
    },
    {
      "cell_type": "markdown",
      "metadata": {
        "id": "HVR1e5ZA4rI3"
      },
      "source": [
        "## Operators"
      ]
    },
    {
      "cell_type": "markdown",
      "metadata": {
        "id": "W6Fn_tzl4rI3"
      },
      "source": [
        "### Operadores de un Qubit : Matrices de Pauli"
      ]
    },
    {
      "cell_type": "code",
      "execution_count": null,
      "metadata": {
        "id": "99icOFRJ4rI4",
        "outputId": "5d8f5586-d502-4a69-ad01-8d92025ca795"
      },
      "outputs": [
        {
          "data": {
            "text/latex": [
              "Quantum object: dims = [[2], [2]], shape = (2, 2), type = oper, isherm = True\\begin{equation*}\\left(\\begin{array}{*{11}c}0.0 & 1.0\\\\1.0 & 0.0\\\\\\end{array}\\right)\\end{equation*}"
            ],
            "text/plain": [
              "Quantum object: dims = [[2], [2]], shape = (2, 2), type = oper, isherm = True\n",
              "Qobj data =\n",
              "[[0. 1.]\n",
              " [1. 0.]]"
            ]
          },
          "execution_count": 12,
          "metadata": {},
          "output_type": "execute_result"
        }
      ],
      "source": [
        "# Pauli sigma x\n",
        "sigmax()"
      ]
    },
    {
      "cell_type": "code",
      "execution_count": null,
      "metadata": {
        "id": "G7EKSz9u4rI5",
        "outputId": "8408a6ff-63fd-43b5-cfae-66454a0c5ada"
      },
      "outputs": [
        {
          "data": {
            "text/latex": [
              "$\\text{Quantum object: dims = [[2], [2]], shape = [2, 2], type = oper, isherm = True}\\\\[1em]\\begin{pmatrix}0.0 & -1.0j\\\\1.0j & 0.0\\\\\\end{pmatrix}$"
            ],
            "text/plain": [
              "Quantum object: dims = [[2], [2]], shape = [2, 2], type = oper, isherm = True\n",
              "Qobj data =\n",
              "[[ 0.+0.j  0.-1.j]\n",
              " [ 0.+1.j  0.+0.j]]"
            ]
          },
          "execution_count": 23,
          "metadata": {},
          "output_type": "execute_result"
        }
      ],
      "source": [
        "# Pauli sigma y\n",
        "sigmay()"
      ]
    },
    {
      "cell_type": "code",
      "execution_count": null,
      "metadata": {
        "id": "CcC2lrto4rI6",
        "outputId": "dfe9bbc6-96dc-4451-b56c-90252a549276"
      },
      "outputs": [
        {
          "data": {
            "text/latex": [
              "$\\text{Quantum object: dims = [[2], [2]], shape = [2, 2], type = oper, isherm = True}\\\\[1em]\\begin{pmatrix}1.0 & 0.0\\\\0.0 & -1.0\\\\\\end{pmatrix}$"
            ],
            "text/plain": [
              "Quantum object: dims = [[2], [2]], shape = [2, 2], type = oper, isherm = True\n",
              "Qobj data =\n",
              "[[ 1.  0.]\n",
              " [ 0. -1.]]"
            ]
          },
          "execution_count": 24,
          "metadata": {},
          "output_type": "execute_result"
        }
      ],
      "source": [
        "# Pauli sigma z\n",
        "sigmaz()"
      ]
    },
    {
      "cell_type": "markdown",
      "metadata": {
        "id": "TfMY-0xG4rI7"
      },
      "source": [
        "Conmutador matrices de Pauli\n",
        "\n",
        "$[\\sigma_x, \\sigma_y] = 2i \\sigma_z$"
      ]
    },
    {
      "cell_type": "code",
      "execution_count": null,
      "metadata": {
        "id": "cVbZ6ddm4rI7",
        "outputId": "d75b399d-8887-4699-c7c1-4bb964af8211"
      },
      "outputs": [
        {
          "data": {
            "text/latex": [
              "$\\text{Quantum object: dims = [[2], [2]], shape = [2, 2], type = oper, isherm = True}\\\\[1em]\\begin{pmatrix}1.0 & 0.0\\\\0.0 & 1.0\\\\\\end{pmatrix}$"
            ],
            "text/plain": [
              "Quantum object: dims = [[2], [2]], shape = [2, 2], type = oper, isherm = True\n",
              "Qobj data =\n",
              "[[ 1.  0.]\n",
              " [ 0.  1.]]"
            ]
          },
          "execution_count": 33,
          "metadata": {},
          "output_type": "execute_result"
        }
      ],
      "source": [
        "-1j * sigmax() * sigmay() * sigmaz()"
      ]
    },
    {
      "cell_type": "markdown",
      "metadata": {
        "id": "GXjpUsqc4rI8"
      },
      "source": [
        "$\\sigma_x^2 = \\sigma_y^2 = \\sigma_z^2 = \\mathbf{1}$"
      ]
    },
    {
      "cell_type": "code",
      "execution_count": null,
      "metadata": {
        "id": "9ou8SrP04rI9",
        "outputId": "c7b2d0fb-8191-413e-d803-fb66901e8c81"
      },
      "outputs": [
        {
          "data": {
            "text/plain": [
              "True"
            ]
          },
          "execution_count": 34,
          "metadata": {},
          "output_type": "execute_result"
        }
      ],
      "source": [
        "sigmax()**2 == sigmay()**2 == sigmaz()**2 == qeye(2)"
      ]
    }
  ],
  "metadata": {
    "kernelspec": {
      "display_name": "Python 3",
      "language": "python",
      "name": "python3"
    },
    "language_info": {
      "codemirror_mode": {
        "name": "ipython",
        "version": 3
      },
      "file_extension": ".py",
      "mimetype": "text/x-python",
      "name": "python",
      "nbconvert_exporter": "python",
      "pygments_lexer": "ipython3",
      "version": "3.10.12"
    },
    "colab": {
      "provenance": [],
      "include_colab_link": true
    }
  },
  "nbformat": 4,
  "nbformat_minor": 0
}