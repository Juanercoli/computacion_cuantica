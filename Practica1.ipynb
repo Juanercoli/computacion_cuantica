{
 "cells": [
  {
   "cell_type": "markdown",
   "metadata": {},
   "source": [
    "# Práctica 0 - Introducción a QuTiP - The Quantum Toolbox in Python\n"
   ]
  },
  {
   "cell_type": "code",
   "execution_count": 1,
   "metadata": {},
   "outputs": [],
   "source": [
    "%matplotlib inline\n",
    "import matplotlib.pyplot as plt\n",
    "import numpy as np\n",
    "from IPython.display import Image"
   ]
  },
  {
   "cell_type": "markdown",
   "metadata": {},
   "source": [
    "Para usar QuTiP en un programa de Python, se incluye el modulo `qutip` al principio:"
   ]
  },
  {
   "cell_type": "code",
   "execution_count": 2,
   "metadata": {},
   "outputs": [],
   "source": [
    "from qutip import *"
   ]
  },
  {
   "cell_type": "code",
   "execution_count": null,
   "metadata": {},
   "outputs": [],
   "source": [
    "Esto habilita las funciones y clases de QuTiP en el resto del programa."
   ]
  },
  {
   "cell_type": "code",
   "execution_count": null,
   "metadata": {},
   "outputs": [],
   "source": [
    "## Quantum object class: `qobj`\n",
    "\n",
    "`Qobj` class, which is used for representing quantum object such as states and operator. \n",
    "\n",
    "The `Qobj` class contains all the information required to describe a quantum system, such as its matrix representation, composite structure and dimensionality. "
   ]
  },
  {
   "cell_type": "markdown",
   "metadata": {},
   "source": [
    "### Creating and inspecting quantum objects"
   ]
  },
  {
   "cell_type": "code",
   "execution_count": null,
   "metadata": {},
   "outputs": [],
   "source": [
    "Create a new quantum (a qubit) object using the `Qobj` class constructor, like this:"
   ]
  },
  {
   "cell_type": "code",
   "execution_count": 5,
   "metadata": {},
   "outputs": [
    {
     "data": {
      "text/latex": [
       "Quantum object: dims = [[2], [1]], shape = (2, 1), type = ket\\begin{equation*}\\left(\\begin{array}{*{11}c}1.0\\\\0.0\\\\\\end{array}\\right)\\end{equation*}"
      ],
      "text/plain": [
       "Quantum object: dims = [[2], [1]], shape = (2, 1), type = ket\n",
       "Qobj data =\n",
       "[[1.]\n",
       " [0.]]"
      ]
     },
     "execution_count": 5,
     "metadata": {},
     "output_type": "execute_result"
    }
   ],
   "source": [
    "q = Qobj([[1], [0]])\n",
    "\n",
    "q"
   ]
  },
  {
   "cell_type": "markdown",
   "metadata": {},
   "source": [
    "Here we passed python list as an argument to the class constructor. The data in this list is used to construct the matrix representation of the quantum objects, and the other properties of the quantum object is by default computed from the same data.\n",
    "\n",
    "We can inspect the properties of a `Qobj` instance using the following class method:"
   ]
  },
  {
   "cell_type": "code",
   "execution_count": 6,
   "metadata": {},
   "outputs": [
    {
     "data": {
      "text/plain": [
       "[[2], [1]]"
      ]
     },
     "execution_count": 6,
     "metadata": {},
     "output_type": "execute_result"
    }
   ],
   "source": [
    "# the dimension, or composite Hilbert state space structure\n",
    "q.dims"
   ]
  },
  {
   "cell_type": "code",
   "execution_count": 7,
   "metadata": {},
   "outputs": [
    {
     "data": {
      "text/plain": [
       "(2, 1)"
      ]
     },
     "execution_count": 7,
     "metadata": {},
     "output_type": "execute_result"
    }
   ],
   "source": [
    "# the shape of the matrix data representation\n",
    "q.shape"
   ]
  },
  {
   "cell_type": "code",
   "execution_count": 8,
   "metadata": {},
   "outputs": [
    {
     "data": {
      "text/plain": [
       "<2x1 sparse matrix of type '<class 'numpy.complex128'>'\n",
       "\twith 1 stored elements in Compressed Sparse Row format>"
      ]
     },
     "execution_count": 8,
     "metadata": {},
     "output_type": "execute_result"
    }
   ],
   "source": [
    "# the matrix data itself. in sparse matrix format. \n",
    "q.data"
   ]
  },
  {
   "cell_type": "code",
   "execution_count": 9,
   "metadata": {},
   "outputs": [
    {
     "data": {
      "text/plain": [
       "array([[1.+0.j],\n",
       "       [0.+0.j]])"
      ]
     },
     "execution_count": 9,
     "metadata": {},
     "output_type": "execute_result"
    }
   ],
   "source": [
    "# get the dense matrix representation\n",
    "q.full()"
   ]
  },
  {
   "cell_type": "code",
   "execution_count": 9,
   "metadata": {},
   "outputs": [
    {
     "data": {
      "text/plain": [
       "(False, 'ket')"
      ]
     },
     "execution_count": 9,
     "metadata": {},
     "output_type": "execute_result"
    }
   ],
   "source": [
    "# some additional properties\n",
    "q.isherm, q.type "
   ]
  },
  {
   "cell_type": "markdown",
   "metadata": {},
   "source": [
    "### Using `Qobj` instances for calculations\n",
    "\n",
    "With `Qobj` instances we can do arithmetic and apply a number of different operations using class methods:"
   ]
  },
  {
   "cell_type": "code",
   "execution_count": 10,
   "metadata": {},
   "outputs": [
    {
     "data": {
      "text/latex": [
       "Quantum object: dims = [[2], [2]], shape = (2, 2), type = oper, isherm = True\\begin{equation*}\\left(\\begin{array}{*{11}c}0.0 & -1.0j\\\\1.0j & 0.0\\\\\\end{array}\\right)\\end{equation*}"
      ],
      "text/plain": [
       "Quantum object: dims = [[2], [2]], shape = (2, 2), type = oper, isherm = True\n",
       "Qobj data =\n",
       "[[0.+0.j 0.-1.j]\n",
       " [0.+1.j 0.+0.j]]"
      ]
     },
     "execution_count": 10,
     "metadata": {},
     "output_type": "execute_result"
    }
   ],
   "source": [
    "sy = Qobj([[0,-1j], [1j,0]])  # the sigma-y Pauli operator\n",
    "\n",
    "sy"
   ]
  },
  {
   "cell_type": "code",
   "execution_count": 11,
   "metadata": {},
   "outputs": [
    {
     "data": {
      "text/latex": [
       "Quantum object: dims = [[2], [2]], shape = (2, 2), type = oper, isherm = True\\begin{equation*}\\left(\\begin{array}{*{11}c}1.0 & 0.0\\\\0.0 & -1.0\\\\\\end{array}\\right)\\end{equation*}"
      ],
      "text/plain": [
       "Quantum object: dims = [[2], [2]], shape = (2, 2), type = oper, isherm = True\n",
       "Qobj data =\n",
       "[[ 1.  0.]\n",
       " [ 0. -1.]]"
      ]
     },
     "execution_count": 11,
     "metadata": {},
     "output_type": "execute_result"
    }
   ],
   "source": [
    "sz = Qobj([[1,0], [0,-1]]) # the sigma-z Pauli operator\n",
    "\n",
    "sz"
   ]
  },
  {
   "cell_type": "code",
   "execution_count": 12,
   "metadata": {},
   "outputs": [
    {
     "name": "stdout",
     "output_type": "stream",
     "text": [
      "Qubit Hamiltonian = \n",
      "\n"
     ]
    },
    {
     "data": {
      "text/latex": [
       "Quantum object: dims = [[2], [2]], shape = (2, 2), type = oper, isherm = True\\begin{equation*}\\left(\\begin{array}{*{11}c}1.0 & -0.100j\\\\0.100j & -1.0\\\\\\end{array}\\right)\\end{equation*}"
      ],
      "text/plain": [
       "Quantum object: dims = [[2], [2]], shape = (2, 2), type = oper, isherm = True\n",
       "Qobj data =\n",
       "[[ 1.+0.j   0.-0.1j]\n",
       " [ 0.+0.1j -1.+0.j ]]"
      ]
     },
     "execution_count": 12,
     "metadata": {},
     "output_type": "execute_result"
    }
   ],
   "source": [
    "# some arithmetic with quantum objects\n",
    "\n",
    "H = 1.0 * sz + 0.1 * sy\n",
    "\n",
    "print(\"Qubit Hamiltonian = \\n\")\n",
    "H"
   ]
  },
  {
   "cell_type": "markdown",
   "metadata": {},
   "source": [
    "Example of modifying quantum objects using the `Qobj` methods:"
   ]
  },
  {
   "cell_type": "code",
   "execution_count": 13,
   "metadata": {},
   "outputs": [
    {
     "data": {
      "text/latex": [
       "Quantum object: dims = [[2], [2]], shape = (2, 2), type = oper, isherm = True\\begin{equation*}\\left(\\begin{array}{*{11}c}0.0 & -1.0j\\\\1.0j & 0.0\\\\\\end{array}\\right)\\end{equation*}"
      ],
      "text/plain": [
       "Quantum object: dims = [[2], [2]], shape = (2, 2), type = oper, isherm = True\n",
       "Qobj data =\n",
       "[[0.+0.j 0.-1.j]\n",
       " [0.+1.j 0.+0.j]]"
      ]
     },
     "execution_count": 13,
     "metadata": {},
     "output_type": "execute_result"
    }
   ],
   "source": [
    "# The hermitian conjugate\n",
    "sy.dag()"
   ]
  },
  {
   "cell_type": "code",
   "execution_count": 14,
   "metadata": {},
   "outputs": [
    {
     "data": {
      "text/plain": [
       "0.0"
      ]
     },
     "execution_count": 14,
     "metadata": {},
     "output_type": "execute_result"
    }
   ],
   "source": [
    "# The trace\n",
    "H.tr()"
   ]
  },
  {
   "cell_type": "code",
   "execution_count": 15,
   "metadata": {},
   "outputs": [
    {
     "data": {
      "text/plain": [
       "array([-1.00498756,  1.00498756])"
      ]
     },
     "execution_count": 15,
     "metadata": {},
     "output_type": "execute_result"
    }
   ],
   "source": [
    "# Eigen energies\n",
    "H.eigenenergies()"
   ]
  },
  {
   "cell_type": "markdown",
   "metadata": {},
   "source": [
    "For a complete list of methods and properties of the `Qobj` class, see the [QuTiP documentation](http://qutip.googlecode.com/svn/doc/2.1.0/html/index.html) or try `help(Qobj)` or `dir(Qobj)`."
   ]
  },
  {
   "cell_type": "markdown",
   "metadata": {},
   "source": [
    "## States and operators\n",
    "\n",
    "Normally we do not need to create `Qobj` instances from stratch, using its constructor and passing its matrix represantation as argument. Instead we can use functions in QuTiP that generates common states and operators for us. Here are some examples of built-in state functions:\n",
    "\n",
    "### State vectors"
   ]
  },
  {
   "cell_type": "code",
   "execution_count": 16,
   "metadata": {},
   "outputs": [
    {
     "data": {
      "text/latex": [
       "$\\text{Quantum object: dims = [[2], [1]], shape = [2, 1], type = ket}\\\\[1em]\\begin{pmatrix}0.0\\\\1.0\\\\\\end{pmatrix}$"
      ],
      "text/plain": [
       "Quantum object: dims = [[2], [1]], shape = [2, 1], type = ket\n",
       "Qobj data =\n",
       "[[ 0.]\n",
       " [ 1.]]"
      ]
     },
     "execution_count": 16,
     "metadata": {},
     "output_type": "execute_result"
    }
   ],
   "source": [
    "# Fundamental basis states (Fock states of oscillator modes)\n",
    "\n",
    "N = 2 # number of states in the Hilbert space\n",
    "n = 1 # the state that will be occupied\n",
    "\n",
    "basis(N, n)    # equivalent to fock(N, n)"
   ]
  },
  {
   "cell_type": "code",
   "execution_count": 17,
   "metadata": {},
   "outputs": [
    {
     "data": {
      "text/latex": [
       "$\\text{Quantum object: dims = [[4], [1]], shape = [4, 1], type = ket}\\\\[1em]\\begin{pmatrix}0.0\\\\0.0\\\\1.0\\\\0.0\\\\\\end{pmatrix}$"
      ],
      "text/plain": [
       "Quantum object: dims = [[4], [1]], shape = [4, 1], type = ket\n",
       "Qobj data =\n",
       "[[ 0.]\n",
       " [ 0.]\n",
       " [ 1.]\n",
       " [ 0.]]"
      ]
     },
     "execution_count": 17,
     "metadata": {},
     "output_type": "execute_result"
    }
   ],
   "source": [
    "fock(4, 2) # another example"
   ]
  },
  {
   "cell_type": "code",
   "execution_count": 18,
   "metadata": {},
   "outputs": [
    {
     "data": {
      "text/latex": [
       "$\\text{Quantum object: dims = [[10], [1]], shape = [10, 1], type = ket}\\\\[1em]\\begin{pmatrix}0.607\\\\0.607\\\\0.429\\\\0.248\\\\0.124\\\\0.055\\\\0.023\\\\0.009\\\\0.003\\\\0.001\\\\\\end{pmatrix}$"
      ],
      "text/plain": [
       "Quantum object: dims = [[10], [1]], shape = [10, 1], type = ket\n",
       "Qobj data =\n",
       "[[ 0.60653066]\n",
       " [ 0.60653066]\n",
       " [ 0.42888194]\n",
       " [ 0.24761511]\n",
       " [ 0.12380753]\n",
       " [ 0.0553686 ]\n",
       " [ 0.02260303]\n",
       " [ 0.00854887]\n",
       " [ 0.00299672]\n",
       " [ 0.00110007]]"
      ]
     },
     "execution_count": 18,
     "metadata": {},
     "output_type": "execute_result"
    }
   ],
   "source": [
    "# a coherent state\n",
    "coherent(N=10, alpha=1.0)"
   ]
  },
  {
   "cell_type": "markdown",
   "metadata": {},
   "source": [
    "### Density matrices"
   ]
  },
  {
   "cell_type": "code",
   "execution_count": 19,
   "metadata": {},
   "outputs": [
    {
     "data": {
      "text/latex": [
       "$\\text{Quantum object: dims = [[5], [5]], shape = [5, 5], type = oper, isherm = True}\\\\[1em]\\begin{pmatrix}0.0 & 0.0 & 0.0 & 0.0 & 0.0\\\\0.0 & 0.0 & 0.0 & 0.0 & 0.0\\\\0.0 & 0.0 & 1.0 & 0.0 & 0.0\\\\0.0 & 0.0 & 0.0 & 0.0 & 0.0\\\\0.0 & 0.0 & 0.0 & 0.0 & 0.0\\\\\\end{pmatrix}$"
      ],
      "text/plain": [
       "Quantum object: dims = [[5], [5]], shape = [5, 5], type = oper, isherm = True\n",
       "Qobj data =\n",
       "[[ 0.  0.  0.  0.  0.]\n",
       " [ 0.  0.  0.  0.  0.]\n",
       " [ 0.  0.  1.  0.  0.]\n",
       " [ 0.  0.  0.  0.  0.]\n",
       " [ 0.  0.  0.  0.  0.]]"
      ]
     },
     "execution_count": 19,
     "metadata": {},
     "output_type": "execute_result"
    }
   ],
   "source": [
    "# a fock state as density matrix\n",
    "fock_dm(5, 2) # 5 = hilbert space size, 2 = state that is occupied"
   ]
  },
  {
   "cell_type": "code",
   "execution_count": 20,
   "metadata": {},
   "outputs": [
    {
     "data": {
      "text/latex": [
       "$\\text{Quantum object: dims = [[8], [8]], shape = [8, 8], type = oper, isherm = True}\\\\[1em]\\begin{pmatrix}0.368 & 0.368 & 0.260 & 0.150 & 0.075 & 0.034 & 0.014 & 0.006\\\\0.368 & 0.368 & 0.260 & 0.150 & 0.075 & 0.034 & 0.014 & 0.006\\\\0.260 & 0.260 & 0.184 & 0.106 & 0.053 & 0.024 & 0.010 & 0.004\\\\0.150 & 0.150 & 0.106 & 0.061 & 0.031 & 0.014 & 0.006 & 0.002\\\\0.075 & 0.075 & 0.053 & 0.031 & 0.015 & 0.007 & 0.003 & 0.001\\\\0.034 & 0.034 & 0.024 & 0.014 & 0.007 & 0.003 & 0.001 & 5.276\\times10^{-04}\\\\0.014 & 0.014 & 0.010 & 0.006 & 0.003 & 0.001 & 4.990\\times10^{-04} & 2.126\\times10^{-04}\\\\0.006 & 0.006 & 0.004 & 0.002 & 0.001 & 5.276\\times10^{-04} & 2.126\\times10^{-04} & 9.058\\times10^{-05}\\\\\\end{pmatrix}$"
      ],
      "text/plain": [
       "Quantum object: dims = [[8], [8]], shape = [8, 8], type = oper, isherm = True\n",
       "Qobj data =\n",
       "[[  3.67879439e-01   3.67879455e-01   2.60129900e-01   1.50187300e-01\n",
       "    7.50858773e-02   3.36199110e-02   1.35485515e-02   5.77267786e-03]\n",
       " [  3.67879455e-01   3.67879470e-01   2.60129911e-01   1.50187306e-01\n",
       "    7.50858804e-02   3.36199124e-02   1.35485520e-02   5.77267810e-03]\n",
       " [  2.60129900e-01   2.60129911e-01   1.83939513e-01   1.06198399e-01\n",
       "    5.30937031e-02   2.37728537e-02   9.58026722e-03   4.08189737e-03]\n",
       " [  1.50187300e-01   1.50187306e-01   1.06198399e-01   6.13141770e-02\n",
       "    3.06539153e-02   1.37253761e-02   5.53121524e-03   2.35670388e-03]\n",
       " [  7.50858773e-02   7.50858804e-02   5.30937031e-02   3.06539153e-02\n",
       "    1.53253712e-02   6.86197771e-03   2.76532136e-03   1.17822997e-03]\n",
       " [  3.36199110e-02   3.36199124e-02   2.37728537e-02   1.37253761e-02\n",
       "    6.86197771e-03   3.07246966e-03   1.23818035e-03   5.27555757e-04]\n",
       " [  1.35485515e-02   1.35485520e-02   9.58026722e-03   5.53121524e-03\n",
       "    2.76532136e-03   1.23818035e-03   4.98976640e-04   2.12600691e-04]\n",
       " [  5.77267786e-03   5.77267810e-03   4.08189737e-03   2.35670388e-03\n",
       "    1.17822997e-03   5.27555757e-04   2.12600691e-04   9.05835068e-05]]"
      ]
     },
     "execution_count": 20,
     "metadata": {},
     "output_type": "execute_result"
    }
   ],
   "source": [
    "# coherent state as density matrix\n",
    "coherent_dm(N=8, alpha=1.0)"
   ]
  },
  {
   "cell_type": "code",
   "execution_count": 21,
   "metadata": {},
   "outputs": [
    {
     "data": {
      "text/latex": [
       "$\\text{Quantum object: dims = [[8], [8]], shape = [8, 8], type = oper, isherm = True}\\\\[1em]\\begin{pmatrix}0.502 & 0.0 & 0.0 & 0.0 & 0.0 & 0.0 & 0.0 & 0.0\\\\0.0 & 0.251 & 0.0 & 0.0 & 0.0 & 0.0 & 0.0 & 0.0\\\\0.0 & 0.0 & 0.125 & 0.0 & 0.0 & 0.0 & 0.0 & 0.0\\\\0.0 & 0.0 & 0.0 & 0.063 & 0.0 & 0.0 & 0.0 & 0.0\\\\0.0 & 0.0 & 0.0 & 0.0 & 0.031 & 0.0 & 0.0 & 0.0\\\\0.0 & 0.0 & 0.0 & 0.0 & 0.0 & 0.016 & 0.0 & 0.0\\\\0.0 & 0.0 & 0.0 & 0.0 & 0.0 & 0.0 & 0.008 & 0.0\\\\0.0 & 0.0 & 0.0 & 0.0 & 0.0 & 0.0 & 0.0 & 0.004\\\\\\end{pmatrix}$"
      ],
      "text/plain": [
       "Quantum object: dims = [[8], [8]], shape = [8, 8], type = oper, isherm = True\n",
       "Qobj data =\n",
       "[[ 0.50196078  0.          0.          0.          0.          0.          0.\n",
       "   0.        ]\n",
       " [ 0.          0.25098039  0.          0.          0.          0.          0.\n",
       "   0.        ]\n",
       " [ 0.          0.          0.1254902   0.          0.          0.          0.\n",
       "   0.        ]\n",
       " [ 0.          0.          0.          0.0627451   0.          0.          0.\n",
       "   0.        ]\n",
       " [ 0.          0.          0.          0.          0.03137255  0.          0.\n",
       "   0.        ]\n",
       " [ 0.          0.          0.          0.          0.          0.01568627\n",
       "   0.          0.        ]\n",
       " [ 0.          0.          0.          0.          0.          0.\n",
       "   0.00784314  0.        ]\n",
       " [ 0.          0.          0.          0.          0.          0.          0.\n",
       "   0.00392157]]"
      ]
     },
     "execution_count": 21,
     "metadata": {},
     "output_type": "execute_result"
    }
   ],
   "source": [
    "# thermal state\n",
    "n = 1 # average number of thermal photons\n",
    "thermal_dm(8, n)"
   ]
  },
  {
   "cell_type": "markdown",
   "metadata": {},
   "source": [
    "### Operators"
   ]
  },
  {
   "cell_type": "markdown",
   "metadata": {},
   "source": [
    "#### Qubit (two-level system) operators"
   ]
  },
  {
   "cell_type": "code",
   "execution_count": 22,
   "metadata": {},
   "outputs": [
    {
     "data": {
      "text/latex": [
       "$\\text{Quantum object: dims = [[2], [2]], shape = [2, 2], type = oper, isherm = True}\\\\[1em]\\begin{pmatrix}0.0 & 1.0\\\\1.0 & 0.0\\\\\\end{pmatrix}$"
      ],
      "text/plain": [
       "Quantum object: dims = [[2], [2]], shape = [2, 2], type = oper, isherm = True\n",
       "Qobj data =\n",
       "[[ 0.  1.]\n",
       " [ 1.  0.]]"
      ]
     },
     "execution_count": 22,
     "metadata": {},
     "output_type": "execute_result"
    }
   ],
   "source": [
    "# Pauli sigma x\n",
    "sigmax()"
   ]
  },
  {
   "cell_type": "code",
   "execution_count": 23,
   "metadata": {},
   "outputs": [
    {
     "data": {
      "text/latex": [
       "$\\text{Quantum object: dims = [[2], [2]], shape = [2, 2], type = oper, isherm = True}\\\\[1em]\\begin{pmatrix}0.0 & -1.0j\\\\1.0j & 0.0\\\\\\end{pmatrix}$"
      ],
      "text/plain": [
       "Quantum object: dims = [[2], [2]], shape = [2, 2], type = oper, isherm = True\n",
       "Qobj data =\n",
       "[[ 0.+0.j  0.-1.j]\n",
       " [ 0.+1.j  0.+0.j]]"
      ]
     },
     "execution_count": 23,
     "metadata": {},
     "output_type": "execute_result"
    }
   ],
   "source": [
    "# Pauli sigma y\n",
    "sigmay()"
   ]
  },
  {
   "cell_type": "code",
   "execution_count": 24,
   "metadata": {},
   "outputs": [
    {
     "data": {
      "text/latex": [
       "$\\text{Quantum object: dims = [[2], [2]], shape = [2, 2], type = oper, isherm = True}\\\\[1em]\\begin{pmatrix}1.0 & 0.0\\\\0.0 & -1.0\\\\\\end{pmatrix}$"
      ],
      "text/plain": [
       "Quantum object: dims = [[2], [2]], shape = [2, 2], type = oper, isherm = True\n",
       "Qobj data =\n",
       "[[ 1.  0.]\n",
       " [ 0. -1.]]"
      ]
     },
     "execution_count": 24,
     "metadata": {},
     "output_type": "execute_result"
    }
   ],
   "source": [
    "# Pauli sigma z\n",
    "sigmaz()"
   ]
  },
  {
   "cell_type": "markdown",
   "metadata": {},
   "source": [
    "#### Harmonic oscillator operators"
   ]
  },
  {
   "cell_type": "code",
   "execution_count": 25,
   "metadata": {},
   "outputs": [
    {
     "data": {
      "text/latex": [
       "$\\text{Quantum object: dims = [[8], [8]], shape = [8, 8], type = oper, isherm = False}\\\\[1em]\\begin{pmatrix}0.0 & 1.0 & 0.0 & 0.0 & 0.0 & 0.0 & 0.0 & 0.0\\\\0.0 & 0.0 & 1.414 & 0.0 & 0.0 & 0.0 & 0.0 & 0.0\\\\0.0 & 0.0 & 0.0 & 1.732 & 0.0 & 0.0 & 0.0 & 0.0\\\\0.0 & 0.0 & 0.0 & 0.0 & 2.0 & 0.0 & 0.0 & 0.0\\\\0.0 & 0.0 & 0.0 & 0.0 & 0.0 & 2.236 & 0.0 & 0.0\\\\0.0 & 0.0 & 0.0 & 0.0 & 0.0 & 0.0 & 2.449 & 0.0\\\\0.0 & 0.0 & 0.0 & 0.0 & 0.0 & 0.0 & 0.0 & 2.646\\\\0.0 & 0.0 & 0.0 & 0.0 & 0.0 & 0.0 & 0.0 & 0.0\\\\\\end{pmatrix}$"
      ],
      "text/plain": [
       "Quantum object: dims = [[8], [8]], shape = [8, 8], type = oper, isherm = False\n",
       "Qobj data =\n",
       "[[ 0.          1.          0.          0.          0.          0.          0.\n",
       "   0.        ]\n",
       " [ 0.          0.          1.41421356  0.          0.          0.          0.\n",
       "   0.        ]\n",
       " [ 0.          0.          0.          1.73205081  0.          0.          0.\n",
       "   0.        ]\n",
       " [ 0.          0.          0.          0.          2.          0.          0.\n",
       "   0.        ]\n",
       " [ 0.          0.          0.          0.          0.          2.23606798\n",
       "   0.          0.        ]\n",
       " [ 0.          0.          0.          0.          0.          0.\n",
       "   2.44948974  0.        ]\n",
       " [ 0.          0.          0.          0.          0.          0.          0.\n",
       "   2.64575131]\n",
       " [ 0.          0.          0.          0.          0.          0.          0.\n",
       "   0.        ]]"
      ]
     },
     "execution_count": 25,
     "metadata": {},
     "output_type": "execute_result"
    }
   ],
   "source": [
    "#  annihilation operator\n",
    "\n",
    "destroy(N=8) # N = number of fock states included in the Hilbert space"
   ]
  },
  {
   "cell_type": "code",
   "execution_count": 26,
   "metadata": {},
   "outputs": [
    {
     "data": {
      "text/latex": [
       "$\\text{Quantum object: dims = [[8], [8]], shape = [8, 8], type = oper, isherm = False}\\\\[1em]\\begin{pmatrix}0.0 & 0.0 & 0.0 & 0.0 & 0.0 & 0.0 & 0.0 & 0.0\\\\1.0 & 0.0 & 0.0 & 0.0 & 0.0 & 0.0 & 0.0 & 0.0\\\\0.0 & 1.414 & 0.0 & 0.0 & 0.0 & 0.0 & 0.0 & 0.0\\\\0.0 & 0.0 & 1.732 & 0.0 & 0.0 & 0.0 & 0.0 & 0.0\\\\0.0 & 0.0 & 0.0 & 2.0 & 0.0 & 0.0 & 0.0 & 0.0\\\\0.0 & 0.0 & 0.0 & 0.0 & 2.236 & 0.0 & 0.0 & 0.0\\\\0.0 & 0.0 & 0.0 & 0.0 & 0.0 & 2.449 & 0.0 & 0.0\\\\0.0 & 0.0 & 0.0 & 0.0 & 0.0 & 0.0 & 2.646 & 0.0\\\\\\end{pmatrix}$"
      ],
      "text/plain": [
       "Quantum object: dims = [[8], [8]], shape = [8, 8], type = oper, isherm = False\n",
       "Qobj data =\n",
       "[[ 0.          0.          0.          0.          0.          0.          0.\n",
       "   0.        ]\n",
       " [ 1.          0.          0.          0.          0.          0.          0.\n",
       "   0.        ]\n",
       " [ 0.          1.41421356  0.          0.          0.          0.          0.\n",
       "   0.        ]\n",
       " [ 0.          0.          1.73205081  0.          0.          0.          0.\n",
       "   0.        ]\n",
       " [ 0.          0.          0.          2.          0.          0.          0.\n",
       "   0.        ]\n",
       " [ 0.          0.          0.          0.          2.23606798  0.          0.\n",
       "   0.        ]\n",
       " [ 0.          0.          0.          0.          0.          2.44948974\n",
       "   0.          0.        ]\n",
       " [ 0.          0.          0.          0.          0.          0.\n",
       "   2.64575131  0.        ]]"
      ]
     },
     "execution_count": 26,
     "metadata": {},
     "output_type": "execute_result"
    }
   ],
   "source": [
    "# creation operator\n",
    "\n",
    "create(N=8) # equivalent to destroy(5).dag()"
   ]
  },
  {
   "cell_type": "code",
   "execution_count": 27,
   "metadata": {},
   "outputs": [
    {
     "data": {
      "text/latex": [
       "$\\text{Quantum object: dims = [[8], [8]], shape = [8, 8], type = oper, isherm = True}\\\\[1em]\\begin{pmatrix}0.0 & 1.0 & 0.0 & 0.0 & 0.0 & 0.0 & 0.0 & 0.0\\\\1.0 & 0.0 & 1.414 & 0.0 & 0.0 & 0.0 & 0.0 & 0.0\\\\0.0 & 1.414 & 0.0 & 1.732 & 0.0 & 0.0 & 0.0 & 0.0\\\\0.0 & 0.0 & 1.732 & 0.0 & 2.0 & 0.0 & 0.0 & 0.0\\\\0.0 & 0.0 & 0.0 & 2.0 & 0.0 & 2.236 & 0.0 & 0.0\\\\0.0 & 0.0 & 0.0 & 0.0 & 2.236 & 0.0 & 2.449 & 0.0\\\\0.0 & 0.0 & 0.0 & 0.0 & 0.0 & 2.449 & 0.0 & 2.646\\\\0.0 & 0.0 & 0.0 & 0.0 & 0.0 & 0.0 & 2.646 & 0.0\\\\\\end{pmatrix}$"
      ],
      "text/plain": [
       "Quantum object: dims = [[8], [8]], shape = [8, 8], type = oper, isherm = True\n",
       "Qobj data =\n",
       "[[ 0.          1.          0.          0.          0.          0.          0.\n",
       "   0.        ]\n",
       " [ 1.          0.          1.41421356  0.          0.          0.          0.\n",
       "   0.        ]\n",
       " [ 0.          1.41421356  0.          1.73205081  0.          0.          0.\n",
       "   0.        ]\n",
       " [ 0.          0.          1.73205081  0.          2.          0.          0.\n",
       "   0.        ]\n",
       " [ 0.          0.          0.          2.          0.          2.23606798\n",
       "   0.          0.        ]\n",
       " [ 0.          0.          0.          0.          2.23606798  0.\n",
       "   2.44948974  0.        ]\n",
       " [ 0.          0.          0.          0.          0.          2.44948974\n",
       "   0.          2.64575131]\n",
       " [ 0.          0.          0.          0.          0.          0.\n",
       "   2.64575131  0.        ]]"
      ]
     },
     "execution_count": 27,
     "metadata": {},
     "output_type": "execute_result"
    }
   ],
   "source": [
    "# the position operator is easily constructed from the annihilation operator\n",
    "a = destroy(8)\n",
    "\n",
    "x = a + a.dag()\n",
    "\n",
    "x"
   ]
  },
  {
   "cell_type": "markdown",
   "metadata": {},
   "source": [
    "#### Using `Qobj` instances we can check some well known commutation relations:"
   ]
  },
  {
   "cell_type": "code",
   "execution_count": 28,
   "metadata": {},
   "outputs": [],
   "source": [
    "def commutator(op1, op2):\n",
    "    return op1 * op2 - op2 * op1"
   ]
  },
  {
   "cell_type": "markdown",
   "metadata": {},
   "source": [
    "$[a, a^1] = 1$"
   ]
  },
  {
   "cell_type": "code",
   "execution_count": 29,
   "metadata": {},
   "outputs": [
    {
     "data": {
      "text/latex": [
       "$\\text{Quantum object: dims = [[5], [5]], shape = [5, 5], type = oper, isherm = True}\\\\[1em]\\begin{pmatrix}1.0 & 0.0 & 0.0 & 0.0 & 0.0\\\\0.0 & 1.0 & 0.0 & 0.0 & 0.0\\\\0.0 & 0.0 & 1.000 & 0.0 & 0.0\\\\0.0 & 0.0 & 0.0 & 1.0 & 0.0\\\\0.0 & 0.0 & 0.0 & 0.0 & -4.0\\\\\\end{pmatrix}$"
      ],
      "text/plain": [
       "Quantum object: dims = [[5], [5]], shape = [5, 5], type = oper, isherm = True\n",
       "Qobj data =\n",
       "[[ 1.  0.  0.  0.  0.]\n",
       " [ 0.  1.  0.  0.  0.]\n",
       " [ 0.  0.  1.  0.  0.]\n",
       " [ 0.  0.  0.  1.  0.]\n",
       " [ 0.  0.  0.  0. -4.]]"
      ]
     },
     "execution_count": 29,
     "metadata": {},
     "output_type": "execute_result"
    }
   ],
   "source": [
    "a = destroy(5)\n",
    "\n",
    "commutator(a, a.dag())"
   ]
  },
  {
   "cell_type": "markdown",
   "metadata": {},
   "source": [
    "**Ops...** The result is not identity! Why? Because we have truncated the Hilbert space. But that's OK as long as the highest Fock state isn't involved in the dynamics in our truncated Hilbert space. If it is, the approximation that the truncation introduces might be a problem."
   ]
  },
  {
   "cell_type": "markdown",
   "metadata": {},
   "source": [
    "$[x,p] = i$"
   ]
  },
  {
   "cell_type": "code",
   "execution_count": 30,
   "metadata": {},
   "outputs": [],
   "source": [
    "x =       (a + a.dag())/sqrt(2)\n",
    "p = -1j * (a - a.dag())/sqrt(2)"
   ]
  },
  {
   "cell_type": "code",
   "execution_count": 31,
   "metadata": {},
   "outputs": [
    {
     "data": {
      "text/latex": [
       "$\\text{Quantum object: dims = [[5], [5]], shape = [5, 5], type = oper, isherm = False}\\\\[1em]\\begin{pmatrix}1.000j & 0.0 & 0.0 & 0.0 & 0.0\\\\0.0 & 1.0j & 0.0 & 0.0 & 0.0\\\\0.0 & 0.0 & 1.000j & 0.0 & 0.0\\\\0.0 & 0.0 & 0.0 & 1.000j & 0.0\\\\0.0 & 0.0 & 0.0 & 0.0 & -4.000j\\\\\\end{pmatrix}$"
      ],
      "text/plain": [
       "Quantum object: dims = [[5], [5]], shape = [5, 5], type = oper, isherm = False\n",
       "Qobj data =\n",
       "[[ 0.+1.j  0.+0.j  0.+0.j  0.+0.j  0.+0.j]\n",
       " [ 0.+0.j  0.+1.j  0.+0.j  0.+0.j  0.+0.j]\n",
       " [ 0.+0.j  0.+0.j  0.+1.j  0.+0.j  0.+0.j]\n",
       " [ 0.+0.j  0.+0.j  0.+0.j  0.+1.j  0.+0.j]\n",
       " [ 0.+0.j  0.+0.j  0.+0.j  0.+0.j  0.-4.j]]"
      ]
     },
     "execution_count": 31,
     "metadata": {},
     "output_type": "execute_result"
    }
   ],
   "source": [
    "commutator(x, p)"
   ]
  },
  {
   "cell_type": "markdown",
   "metadata": {},
   "source": [
    "Same issue with the truncated Hilbert space, but otherwise OK."
   ]
  },
  {
   "cell_type": "markdown",
   "metadata": {},
   "source": [
    "Let's try some Pauli spin inequalities\n",
    "\n",
    "$[\\sigma_x, \\sigma_y] = 2i \\sigma_z$"
   ]
  },
  {
   "cell_type": "code",
   "execution_count": 32,
   "metadata": {},
   "outputs": [
    {
     "data": {
      "text/latex": [
       "$\\text{Quantum object: dims = [[2], [2]], shape = [2, 2], type = oper, isherm = True}\\\\[1em]\\begin{pmatrix}0.0 & 0.0\\\\0.0 & 0.0\\\\\\end{pmatrix}$"
      ],
      "text/plain": [
       "Quantum object: dims = [[2], [2]], shape = [2, 2], type = oper, isherm = True\n",
       "Qobj data =\n",
       "[[ 0.  0.]\n",
       " [ 0.  0.]]"
      ]
     },
     "execution_count": 32,
     "metadata": {},
     "output_type": "execute_result"
    }
   ],
   "source": [
    "commutator(sigmax(), sigmay()) - 2j * sigmaz()"
   ]
  },
  {
   "cell_type": "markdown",
   "metadata": {},
   "source": [
    "$-i \\sigma_x \\sigma_y \\sigma_z = \\mathbf{1}$"
   ]
  },
  {
   "cell_type": "code",
   "execution_count": 33,
   "metadata": {},
   "outputs": [
    {
     "data": {
      "text/latex": [
       "$\\text{Quantum object: dims = [[2], [2]], shape = [2, 2], type = oper, isherm = True}\\\\[1em]\\begin{pmatrix}1.0 & 0.0\\\\0.0 & 1.0\\\\\\end{pmatrix}$"
      ],
      "text/plain": [
       "Quantum object: dims = [[2], [2]], shape = [2, 2], type = oper, isherm = True\n",
       "Qobj data =\n",
       "[[ 1.  0.]\n",
       " [ 0.  1.]]"
      ]
     },
     "execution_count": 33,
     "metadata": {},
     "output_type": "execute_result"
    }
   ],
   "source": [
    "-1j * sigmax() * sigmay() * sigmaz()"
   ]
  },
  {
   "cell_type": "markdown",
   "metadata": {},
   "source": [
    "$\\sigma_x^2 = \\sigma_y^2 = \\sigma_z^2 = \\mathbf{1}$"
   ]
  },
  {
   "cell_type": "code",
   "execution_count": 34,
   "metadata": {},
   "outputs": [
    {
     "data": {
      "text/plain": [
       "True"
      ]
     },
     "execution_count": 34,
     "metadata": {},
     "output_type": "execute_result"
    }
   ],
   "source": [
    "sigmax()**2 == sigmay()**2 == sigmaz()**2 == qeye(2)"
   ]
  },
  {
   "cell_type": "markdown",
   "metadata": {},
   "source": [
    "## Composite systems\n",
    "\n",
    "In most cases we are interested in coupled quantum systems, for example coupled qubits, a qubit coupled to a cavity (oscillator mode), etc.\n",
    "\n",
    "To define states and operators for such systems in QuTiP, we use the `tensor` function to create `Qobj` instances for the composite system.\n",
    "\n",
    "For example, consider a system composed of two qubits. If we want to create a Pauli $\\sigma_z$ operator that acts on the first qubit and leaves the second qubit unaffected (i.e., the operator $\\sigma_z \\otimes \\mathbf{1}$), we would do:"
   ]
  },
  {
   "cell_type": "code",
   "execution_count": 35,
   "metadata": {},
   "outputs": [
    {
     "data": {
      "text/latex": [
       "$\\text{Quantum object: dims = [[2, 2], [2, 2]], shape = [4, 4], type = oper, isherm = True}\\\\[1em]\\begin{pmatrix}1.0 & 0.0 & 0.0 & 0.0\\\\0.0 & 1.0 & 0.0 & 0.0\\\\0.0 & 0.0 & -1.0 & 0.0\\\\0.0 & 0.0 & 0.0 & -1.0\\\\\\end{pmatrix}$"
      ],
      "text/plain": [
       "Quantum object: dims = [[2, 2], [2, 2]], shape = [4, 4], type = oper, isherm = True\n",
       "Qobj data =\n",
       "[[ 1.  0.  0.  0.]\n",
       " [ 0.  1.  0.  0.]\n",
       " [ 0.  0. -1.  0.]\n",
       " [ 0.  0.  0. -1.]]"
      ]
     },
     "execution_count": 35,
     "metadata": {},
     "output_type": "execute_result"
    }
   ],
   "source": [
    "sz1 = tensor(sigmaz(), qeye(2))\n",
    "\n",
    "sz1"
   ]
  },
  {
   "cell_type": "markdown",
   "metadata": {},
   "source": [
    "We can easily verify that this two-qubit operator does indeed have the desired properties:"
   ]
  },
  {
   "cell_type": "code",
   "execution_count": 36,
   "metadata": {},
   "outputs": [],
   "source": [
    "psi1 = tensor(basis(N,1), basis(N,0)) # excited first qubit\n",
    "psi2 = tensor(basis(N,0), basis(N,1)) # excited second qubit"
   ]
  },
  {
   "cell_type": "code",
   "execution_count": 37,
   "metadata": {},
   "outputs": [
    {
     "data": {
      "text/plain": [
       "False"
      ]
     },
     "execution_count": 37,
     "metadata": {},
     "output_type": "execute_result"
    }
   ],
   "source": [
    "sz1 * psi1 == psi1 # this should not be true, because sz1 should flip the sign of the excited state of psi1"
   ]
  },
  {
   "cell_type": "code",
   "execution_count": 38,
   "metadata": {},
   "outputs": [
    {
     "data": {
      "text/plain": [
       "True"
      ]
     },
     "execution_count": 38,
     "metadata": {},
     "output_type": "execute_result"
    }
   ],
   "source": [
    "sz1 * psi2 == psi2 # this should be true, because sz1 should leave psi2 unaffected"
   ]
  },
  {
   "cell_type": "markdown",
   "metadata": {},
   "source": [
    "Above we used the `qeye(N)` function, which generates the identity operator with `N` quantum states. If we want to do the same thing for the second qubit we can do:"
   ]
  },
  {
   "cell_type": "code",
   "execution_count": 39,
   "metadata": {},
   "outputs": [
    {
     "data": {
      "text/latex": [
       "$\\text{Quantum object: dims = [[2, 2], [2, 2]], shape = [4, 4], type = oper, isherm = True}\\\\[1em]\\begin{pmatrix}1.0 & 0.0 & 0.0 & 0.0\\\\0.0 & -1.0 & 0.0 & 0.0\\\\0.0 & 0.0 & 1.0 & 0.0\\\\0.0 & 0.0 & 0.0 & -1.0\\\\\\end{pmatrix}$"
      ],
      "text/plain": [
       "Quantum object: dims = [[2, 2], [2, 2]], shape = [4, 4], type = oper, isherm = True\n",
       "Qobj data =\n",
       "[[ 1.  0.  0.  0.]\n",
       " [ 0. -1.  0.  0.]\n",
       " [ 0.  0.  1.  0.]\n",
       " [ 0.  0.  0. -1.]]"
      ]
     },
     "execution_count": 39,
     "metadata": {},
     "output_type": "execute_result"
    }
   ],
   "source": [
    "sz2 = tensor(qeye(2), sigmaz())\n",
    "\n",
    "sz2"
   ]
  },
  {
   "cell_type": "markdown",
   "metadata": {},
   "source": [
    "Note the order of the argument to the `tensor` function, and the correspondingly different matrix representation of the two operators `sz1` and `sz2`.\n",
    "\n",
    "Using the same method we can create coupling terms of the form $\\sigma_x \\otimes \\sigma_x$:"
   ]
  },
  {
   "cell_type": "code",
   "execution_count": 40,
   "metadata": {},
   "outputs": [
    {
     "data": {
      "text/latex": [
       "$\\text{Quantum object: dims = [[2, 2], [2, 2]], shape = [4, 4], type = oper, isherm = True}\\\\[1em]\\begin{pmatrix}0.0 & 0.0 & 0.0 & 1.0\\\\0.0 & 0.0 & 1.0 & 0.0\\\\0.0 & 1.0 & 0.0 & 0.0\\\\1.0 & 0.0 & 0.0 & 0.0\\\\\\end{pmatrix}$"
      ],
      "text/plain": [
       "Quantum object: dims = [[2, 2], [2, 2]], shape = [4, 4], type = oper, isherm = True\n",
       "Qobj data =\n",
       "[[ 0.  0.  0.  1.]\n",
       " [ 0.  0.  1.  0.]\n",
       " [ 0.  1.  0.  0.]\n",
       " [ 1.  0.  0.  0.]]"
      ]
     },
     "execution_count": 40,
     "metadata": {},
     "output_type": "execute_result"
    }
   ],
   "source": [
    "tensor(sigmax(), sigmax())"
   ]
  },
  {
   "cell_type": "markdown",
   "metadata": {},
   "source": [
    "Now we are ready to create a `Qobj` representation of a coupled two-qubit Hamiltonian: $H = \\epsilon_1 \\sigma_z^{(1)} + \\epsilon_2 \\sigma_z^{(2)} + g \\sigma_x^{(1)}\\sigma_x^{(2)}$"
   ]
  },
  {
   "cell_type": "code",
   "execution_count": 41,
   "metadata": {},
   "outputs": [
    {
     "data": {
      "text/latex": [
       "$\\text{Quantum object: dims = [[2, 2], [2, 2]], shape = [4, 4], type = oper, isherm = True}\\\\[1em]\\begin{pmatrix}2.0 & 0.0 & 0.0 & 0.100\\\\0.0 & 0.0 & 0.100 & 0.0\\\\0.0 & 0.100 & 0.0 & 0.0\\\\0.100 & 0.0 & 0.0 & -2.0\\\\\\end{pmatrix}$"
      ],
      "text/plain": [
       "Quantum object: dims = [[2, 2], [2, 2]], shape = [4, 4], type = oper, isherm = True\n",
       "Qobj data =\n",
       "[[ 2.   0.   0.   0.1]\n",
       " [ 0.   0.   0.1  0. ]\n",
       " [ 0.   0.1  0.   0. ]\n",
       " [ 0.1  0.   0.  -2. ]]"
      ]
     },
     "execution_count": 41,
     "metadata": {},
     "output_type": "execute_result"
    }
   ],
   "source": [
    "epsilon = [1.0, 1.0]\n",
    "g = 0.1\n",
    "\n",
    "sz1 = tensor(sigmaz(), qeye(2))\n",
    "sz2 = tensor(qeye(2), sigmaz())\n",
    "\n",
    "H = epsilon[0] * sz1 + epsilon[1] * sz2 + g * tensor(sigmax(), sigmax())\n",
    "\n",
    "H"
   ]
  },
  {
   "cell_type": "markdown",
   "metadata": {},
   "source": [
    "To create composite systems of different types, all we need to do is to change the operators that we pass to the `tensor` function (which can take an arbitrary number of operator for composite systems with many components).\n",
    "\n",
    "For example, the Jaynes-Cumming Hamiltonian for a qubit-cavity system:\n",
    "\n",
    "$H = \\omega_c a^\\dagger a - \\frac{1}{2}\\omega_a \\sigma_z + g (a \\sigma_+ + a^\\dagger \\sigma_-)$"
   ]
  },
  {
   "cell_type": "code",
   "execution_count": 42,
   "metadata": {},
   "outputs": [
    {
     "data": {
      "text/latex": [
       "$\\text{Quantum object: dims = [[5, 2], [5, 2]], shape = [10, 10], type = oper, isherm = True}\\\\[1em]\\begin{pmatrix}-0.500 & 0.0 & 0.0 & 0.0 & 0.0 & 0.0 & 0.0 & 0.0 & 0.0 & 0.0\\\\0.0 & 0.500 & 0.100 & 0.0 & 0.0 & 0.0 & 0.0 & 0.0 & 0.0 & 0.0\\\\0.0 & 0.100 & 0.500 & 0.0 & 0.0 & 0.0 & 0.0 & 0.0 & 0.0 & 0.0\\\\0.0 & 0.0 & 0.0 & 1.500 & 0.141 & 0.0 & 0.0 & 0.0 & 0.0 & 0.0\\\\0.0 & 0.0 & 0.0 & 0.141 & 1.500 & 0.0 & 0.0 & 0.0 & 0.0 & 0.0\\\\0.0 & 0.0 & 0.0 & 0.0 & 0.0 & 2.500 & 0.173 & 0.0 & 0.0 & 0.0\\\\0.0 & 0.0 & 0.0 & 0.0 & 0.0 & 0.173 & 2.500 & 0.0 & 0.0 & 0.0\\\\0.0 & 0.0 & 0.0 & 0.0 & 0.0 & 0.0 & 0.0 & 3.500 & 0.200 & 0.0\\\\0.0 & 0.0 & 0.0 & 0.0 & 0.0 & 0.0 & 0.0 & 0.200 & 3.500 & 0.0\\\\0.0 & 0.0 & 0.0 & 0.0 & 0.0 & 0.0 & 0.0 & 0.0 & 0.0 & 4.500\\\\\\end{pmatrix}$"
      ],
      "text/plain": [
       "Quantum object: dims = [[5, 2], [5, 2]], shape = [10, 10], type = oper, isherm = True\n",
       "Qobj data =\n",
       "[[-0.5         0.          0.          0.          0.          0.          0.\n",
       "   0.          0.          0.        ]\n",
       " [ 0.          0.5         0.1         0.          0.          0.          0.\n",
       "   0.          0.          0.        ]\n",
       " [ 0.          0.1         0.5         0.          0.          0.          0.\n",
       "   0.          0.          0.        ]\n",
       " [ 0.          0.          0.          1.5         0.14142136  0.          0.\n",
       "   0.          0.          0.        ]\n",
       " [ 0.          0.          0.          0.14142136  1.5         0.          0.\n",
       "   0.          0.          0.        ]\n",
       " [ 0.          0.          0.          0.          0.          2.5\n",
       "   0.17320508  0.          0.          0.        ]\n",
       " [ 0.          0.          0.          0.          0.          0.17320508\n",
       "   2.5         0.          0.          0.        ]\n",
       " [ 0.          0.          0.          0.          0.          0.          0.\n",
       "   3.5         0.2         0.        ]\n",
       " [ 0.          0.          0.          0.          0.          0.          0.\n",
       "   0.2         3.5         0.        ]\n",
       " [ 0.          0.          0.          0.          0.          0.          0.\n",
       "   0.          0.          4.5       ]]"
      ]
     },
     "execution_count": 42,
     "metadata": {},
     "output_type": "execute_result"
    }
   ],
   "source": [
    "wc = 1.0 # cavity frequency\n",
    "wa = 1.0 # qubit/atom frenqency\n",
    "g = 0.1  # coupling strength\n",
    "\n",
    "# cavity mode operator\n",
    "a = tensor(destroy(5), qeye(2))\n",
    "\n",
    "# qubit/atom operators\n",
    "sz = tensor(qeye(5), sigmaz())   # sigma-z operator\n",
    "sm = tensor(qeye(5), destroy(2)) # sigma-minus operator\n",
    "\n",
    "# the Jaynes-Cumming Hamiltonian\n",
    "H = wc * a.dag() * a - 0.5 * wa * sz + g * (a * sm.dag() + a.dag() * sm)\n",
    "\n",
    "H"
   ]
  },
  {
   "cell_type": "markdown",
   "metadata": {},
   "source": [
    "Note that \n",
    "\n",
    "$a \\sigma_+ = (a \\otimes \\mathbf{1}) (\\mathbf{1} \\otimes \\sigma_+)$\n",
    "\n",
    "so the following two are identical:"
   ]
  },
  {
   "cell_type": "code",
   "execution_count": 43,
   "metadata": {},
   "outputs": [
    {
     "data": {
      "text/latex": [
       "$\\text{Quantum object: dims = [[3, 2], [3, 2]], shape = [6, 6], type = oper, isherm = False}\\\\[1em]\\begin{pmatrix}0.0 & 0.0 & 0.0 & 0.0 & 0.0 & 0.0\\\\0.0 & 0.0 & 1.0 & 0.0 & 0.0 & 0.0\\\\0.0 & 0.0 & 0.0 & 0.0 & 0.0 & 0.0\\\\0.0 & 0.0 & 0.0 & 0.0 & 1.414 & 0.0\\\\0.0 & 0.0 & 0.0 & 0.0 & 0.0 & 0.0\\\\0.0 & 0.0 & 0.0 & 0.0 & 0.0 & 0.0\\\\\\end{pmatrix}$"
      ],
      "text/plain": [
       "Quantum object: dims = [[3, 2], [3, 2]], shape = [6, 6], type = oper, isherm = False\n",
       "Qobj data =\n",
       "[[ 0.          0.          0.          0.          0.          0.        ]\n",
       " [ 0.          0.          1.          0.          0.          0.        ]\n",
       " [ 0.          0.          0.          0.          0.          0.        ]\n",
       " [ 0.          0.          0.          0.          1.41421356  0.        ]\n",
       " [ 0.          0.          0.          0.          0.          0.        ]\n",
       " [ 0.          0.          0.          0.          0.          0.        ]]"
      ]
     },
     "execution_count": 43,
     "metadata": {},
     "output_type": "execute_result"
    }
   ],
   "source": [
    "a = tensor(destroy(3), qeye(2))\n",
    "sp = tensor(qeye(3), create(2))\n",
    "\n",
    "a * sp"
   ]
  },
  {
   "cell_type": "code",
   "execution_count": 44,
   "metadata": {},
   "outputs": [
    {
     "data": {
      "text/latex": [
       "$\\text{Quantum object: dims = [[3, 2], [3, 2]], shape = [6, 6], type = oper, isherm = False}\\\\[1em]\\begin{pmatrix}0.0 & 0.0 & 0.0 & 0.0 & 0.0 & 0.0\\\\0.0 & 0.0 & 1.0 & 0.0 & 0.0 & 0.0\\\\0.0 & 0.0 & 0.0 & 0.0 & 0.0 & 0.0\\\\0.0 & 0.0 & 0.0 & 0.0 & 1.414 & 0.0\\\\0.0 & 0.0 & 0.0 & 0.0 & 0.0 & 0.0\\\\0.0 & 0.0 & 0.0 & 0.0 & 0.0 & 0.0\\\\\\end{pmatrix}$"
      ],
      "text/plain": [
       "Quantum object: dims = [[3, 2], [3, 2]], shape = [6, 6], type = oper, isherm = False\n",
       "Qobj data =\n",
       "[[ 0.          0.          0.          0.          0.          0.        ]\n",
       " [ 0.          0.          1.          0.          0.          0.        ]\n",
       " [ 0.          0.          0.          0.          0.          0.        ]\n",
       " [ 0.          0.          0.          0.          1.41421356  0.        ]\n",
       " [ 0.          0.          0.          0.          0.          0.        ]\n",
       " [ 0.          0.          0.          0.          0.          0.        ]]"
      ]
     },
     "execution_count": 44,
     "metadata": {},
     "output_type": "execute_result"
    }
   ],
   "source": [
    "tensor(destroy(3), create(2))"
   ]
  },
  {
   "cell_type": "markdown",
   "metadata": {},
   "source": [
    "## Unitary dynamics\n",
    "\n",
    "Unitary evolution of a quantum system in QuTiP can be calculated with the `mesolve` function. \n",
    "\n",
    "`mesolve` is short for Master-eqaution solve (for dissipative dynamics), but if no collapse operators (which describe the dissipation) are given to the solve it falls back on the unitary evolution of the Schrodinger (for initial states in state vector for) or the von Neuman equation (for initial states in density matrix form).\n",
    "\n",
    "The evolution solvers in QuTiP returns a class of type `Odedata`, which contains the solution to the problem posed to the evolution solver. \n",
    "\n",
    "For example, considor a qubit with Hamiltonian $H = \\sigma_x$ and initial state $\\left|1\\right>$ (in the sigma-z basis): Its evolution can be calculated as follows:"
   ]
  },
  {
   "cell_type": "code",
   "execution_count": 45,
   "metadata": {},
   "outputs": [],
   "source": [
    "# Hamiltonian\n",
    "H = sigmax()\n",
    "\n",
    "# initial state\n",
    "psi0 = basis(2, 0)\n",
    "\n",
    "# list of times for which the solver should store the state vector\n",
    "tlist = np.linspace(0, 10, 100)\n",
    "\n",
    "result = mesolve(H, psi0, tlist, [], [])"
   ]
  },
  {
   "cell_type": "code",
   "execution_count": 46,
   "metadata": {},
   "outputs": [
    {
     "data": {
      "text/plain": [
       "Odedata object with sesolve data.\n",
       "---------------------------------\n",
       "states = True\n",
       "num_collapse = 0"
      ]
     },
     "execution_count": 46,
     "metadata": {},
     "output_type": "execute_result"
    }
   ],
   "source": [
    "result"
   ]
  },
  {
   "cell_type": "markdown",
   "metadata": {},
   "source": [
    "The `result` object contains a list of the wavefunctions at the times requested with the `tlist` array. "
   ]
  },
  {
   "cell_type": "code",
   "execution_count": 47,
   "metadata": {},
   "outputs": [
    {
     "data": {
      "text/plain": [
       "100"
      ]
     },
     "execution_count": 47,
     "metadata": {},
     "output_type": "execute_result"
    }
   ],
   "source": [
    "len(result.states)"
   ]
  },
  {
   "cell_type": "code",
   "execution_count": 48,
   "metadata": {},
   "outputs": [
    {
     "data": {
      "text/latex": [
       "$\\text{Quantum object: dims = [[2], [1]], shape = [2, 1], type = ket}\\\\[1em]\\begin{pmatrix}-0.839\\\\0.544j\\\\\\end{pmatrix}$"
      ],
      "text/plain": [
       "Quantum object: dims = [[2], [1]], shape = [2, 1], type = ket\n",
       "Qobj data =\n",
       "[[-0.8390774+0.j        ]\n",
       " [ 0.0000000+0.54401206j]]"
      ]
     },
     "execution_count": 48,
     "metadata": {},
     "output_type": "execute_result"
    }
   ],
   "source": [
    "result.states[-1] # the finial state"
   ]
  },
  {
   "cell_type": "markdown",
   "metadata": {},
   "source": [
    "### Expectation values\n",
    "\n",
    "The expectation values of an operator given a state vector or density matrix (or list thereof) can be calculated using the `expect` function. "
   ]
  },
  {
   "cell_type": "code",
   "execution_count": 49,
   "metadata": {},
   "outputs": [
    {
     "data": {
      "text/plain": [
       "0.40810176186454994"
      ]
     },
     "execution_count": 49,
     "metadata": {},
     "output_type": "execute_result"
    }
   ],
   "source": [
    "expect(sigmaz(), result.states[-1])"
   ]
  },
  {
   "cell_type": "code",
   "execution_count": 50,
   "metadata": {},
   "outputs": [
    {
     "data": {
      "text/plain": [
       "array([ 1.        ,  0.97966324,  0.91948013,  0.82189857,  0.69088756,\n",
       "        0.53177579,  0.3510349 ,  0.15601625, -0.04534808, -0.24486795,\n",
       "       -0.43442821, -0.60631884, -0.75354841, -0.87012859, -0.95131766,\n",
       "       -0.99381332, -0.99588712, -0.95745468, -0.88007921, -0.76690787,\n",
       "       -0.62254375, -0.45285867, -0.26475429, -0.06588149,  0.13567091,\n",
       "        0.33170513,  0.51424779,  0.67587427,  0.81001063,  0.91120109,\n",
       "        0.97532984,  0.99978853,  0.9835823 ,  0.92737033,  0.83343897,\n",
       "        0.70560878,  0.54907906,  0.37021643,  0.17629587, -0.02479521,\n",
       "       -0.22487778, -0.41581382, -0.58983733, -0.73987014, -0.85980992,\n",
       "       -0.94477826, -0.9913192 , -0.99753971, -0.96318677, -0.88965766,\n",
       "       -0.77994308, -0.63850553, -0.4710978 , -0.28452892, -0.08638732,\n",
       "        0.11526793,  0.31223484,  0.49650212,  0.660575  ,  0.79778003,\n",
       "        0.90253662,  0.97058393,  0.99915421,  0.98708537,  0.9348683 ,\n",
       "        0.84462688,  0.72003156,  0.56615011,  0.38924141,  0.19650096,\n",
       "       -0.00423183, -0.20479249, -0.39702355, -0.57310633, -0.72587894,\n",
       "       -0.84912758, -0.93783928, -0.9884058 , -0.99877041, -0.9685115 ,\n",
       "       -0.89885984, -0.79264843, -0.65419728, -0.4891377 , -0.30418323,\n",
       "       -0.10685663,  0.09481617,  0.29263248,  0.47854644,  0.64499632,\n",
       "        0.785212  ,  0.89349043,  0.96542751,  0.9980973 ,  0.99017096,\n",
       "        0.94197089,  0.85545757,  0.73414984,  0.58298172,  0.40810176])"
      ]
     },
     "execution_count": 50,
     "metadata": {},
     "output_type": "execute_result"
    }
   ],
   "source": [
    "expect(sigmaz(), result.states)"
   ]
  },
  {
   "cell_type": "code",
   "execution_count": 51,
   "metadata": {},
   "outputs": [
    {
     "data": {
      "image/png": "[encoded data removed]",
      "text/plain": [
       "<matplotlib.figure.Figure at 0x2fcb290>"
      ]
     },
     "metadata": {},
     "output_type": "display_data"
    }
   ],
   "source": [
    "fig, axes = plt.subplots(1,1)\n",
    "\n",
    "axes.plot(tlist, expect(sigmaz(), result.states))\n",
    "\n",
    "axes.set_xlabel(r'$t$', fontsize=20)\n",
    "axes.set_ylabel(r'$\\left<\\sigma_z\\right>$', fontsize=20);"
   ]
  },
  {
   "cell_type": "markdown",
   "metadata": {},
   "source": [
    "If we are only interested in expectation values, we could pass a list of operators to the `mesolve` function that we want expectation values for, and have the solver compute then and store the results in the `Odedata` class instance that it returns.\n",
    "\n",
    "For example, to request that the solver calculates the expectation values for the operators $\\sigma_x, \\sigma_y, \\sigma_z$:"
   ]
  },
  {
   "cell_type": "code",
   "execution_count": 52,
   "metadata": {},
   "outputs": [],
   "source": [
    "result = mesolve(H, psi0, tlist, [], [sigmax(), sigmay(), sigmaz()])"
   ]
  },
  {
   "cell_type": "markdown",
   "metadata": {},
   "source": [
    "Now the expectation values are available in `result.expect[0]`, `result.expect[1]`, and `result.expect[2]`:"
   ]
  },
  {
   "cell_type": "code",
   "execution_count": 53,
   "metadata": {},
   "outputs": [
    {
     "data": {
      "image/png": "[encoded data removed]",
      "text/plain": [
       "<matplotlib.figure.Figure at 0x2fbd290>"
      ]
     },
     "metadata": {},
     "output_type": "display_data"
    }
   ],
   "source": [
    "fig, axes = plt.subplots(1,1)\n",
    "\n",
    "axes.plot(tlist, result.expect[2], label=r'$\\left<\\sigma_z\\right>$')\n",
    "axes.plot(tlist, result.expect[1], label=r'$\\left<\\sigma_y\\right>$')\n",
    "axes.plot(tlist, result.expect[0], label=r'$\\left<\\sigma_x\\right>$')\n",
    "\n",
    "axes.set_xlabel(r'$t$', fontsize=20)\n",
    "axes.legend(loc=2);"
   ]
  },
  {
   "cell_type": "markdown",
   "metadata": {},
   "source": [
    "## Dissipative dynamics\n",
    "\n",
    "To add dissipation to a problem, all we need to do is to define a list of collapse operators to the call to the `mesolve` solver.\n",
    "\n",
    "A collapse operator is an operator that describes how the system is interacting with its environment. \n",
    "\n",
    "For example, consider a quantum harmonic oscillator with Hamiltonian \n",
    "\n",
    "$H = \\hbar\\omega a^\\dagger a$\n",
    "\n",
    "and which loses photons to its environment with a relaxation rate $\\kappa$. The collapse operator that describes this process is \n",
    "\n",
    "$\\sqrt{\\kappa} a$\n",
    "\n",
    "since $a$ is the photon annihilation operator of the oscillator. \n",
    "\n",
    "To program this problem in QuTiP:"
   ]
  },
  {
   "cell_type": "code",
   "execution_count": 54,
   "metadata": {},
   "outputs": [],
   "source": [
    "w = 1.0               # oscillator frequency\n",
    "kappa = 0.1           # relaxation rate\n",
    "a = destroy(10)       # oscillator annihilation operator\n",
    "rho0 = fock_dm(10, 5) # initial state, fock state with 5 photons\n",
    "H = w * a.dag() * a   # Hamiltonian\n",
    "\n",
    "# A list of collapse operators\n",
    "c_ops = [sqrt(kappa) * a]"
   ]
  },
  {
   "cell_type": "code",
   "execution_count": 55,
   "metadata": {},
   "outputs": [],
   "source": [
    "tlist = np.linspace(0, 50, 100)\n",
    "\n",
    "# request that the solver return the expectation value of the photon number state operator a.dag() * a\n",
    "result = mesolve(H, rho0, tlist, c_ops, [a.dag() * a]) "
   ]
  },
  {
   "cell_type": "code",
   "execution_count": 56,
   "metadata": {},
   "outputs": [
    {
     "data": {
      "image/png": "[encoded data removed]",
      "text/plain": [
       "<matplotlib.figure.Figure at 0x3113a90>"
      ]
     },
     "metadata": {},
     "output_type": "display_data"
    }
   ],
   "source": [
    "fig, axes = plt.subplots(1,1)\n",
    "axes.plot(tlist, result.expect[0])\n",
    "axes.set_xlabel(r'$t$', fontsize=20)\n",
    "axes.set_ylabel(r\"Photon number\", fontsize=16);"
   ]
  },
  {
   "cell_type": "markdown",
   "metadata": {},
   "source": [
    "### Software versions"
   ]
  },
  {
   "cell_type": "code",
   "execution_count": 57,
   "metadata": {},
   "outputs": [
    {
     "data": {
      "text/html": [
       "<table><tr><th>Software</th><th>Version</th></tr><tr><td>Cython</td><td>0.20.1</td></tr><tr><td>SciPy</td><td>0.13.3</td></tr><tr><td>QuTiP</td><td>3.0.0.dev-927c867</td></tr><tr><td>Python</td><td>2.7.5+ (default, Feb 27 2014, 19:37:08) \n",
       "[GCC 4.8.1]</td></tr><tr><td>IPython</td><td>2.0.0</td></tr><tr><td>OS</td><td>posix [linux2]</td></tr><tr><td>Numpy</td><td>1.8.1</td></tr><tr><td>matplotlib</td><td>1.3.1</td></tr><tr><td colspan='2'>Wed Jul 02 15:30:51 2014 JST</td></tr></table>"
      ],
      "text/plain": [
       "<IPython.core.display.HTML at 0x3104390>"
      ]
     },
     "execution_count": 57,
     "metadata": {},
     "output_type": "execute_result"
    }
   ],
   "source": [
    "from qutip.ipynbtools import version_table\n",
    "\n",
    "version_table()"
   ]
  }
 ],
 "metadata": {
  "kernelspec": {
   "display_name": "Python 3",
   "language": "python",
   "name": "python3"
  },
  "language_info": {
   "codemirror_mode": {
    "name": "ipython",
    "version": 3
   },
   "file_extension": ".py",
   "mimetype": "text/x-python",
   "name": "python",
   "nbconvert_exporter": "python",
   "pygments_lexer": "ipython3",
   "version": "3.7.0"
  }
 },
 "nbformat": 4,
 "nbformat_minor": 2
}
